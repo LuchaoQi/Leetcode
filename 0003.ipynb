{
 "cells": [
  {
   "cell_type": "code",
   "execution_count": null,
   "metadata": {},
   "outputs": [],
   "source": [
    "'''\n",
    "Follow up:\n",
    "\n",
    "Coud you solve it without converting the integer to a string?'''\n",
    "class Solution:\n",
    "    def isPalindrome(self, x: int) -> bool:\n",
    "        "
   ]
  },
  {
   "cell_type": "code",
   "execution_count": 39,
   "metadata": {},
   "outputs": [
    {
     "name": "stdout",
     "output_type": "stream",
     "text": [
      "False\n"
     ]
    }
   ],
   "source": [
    "class Solution:\n",
    "    def isPalindrome(self, x: int) -> bool:\n",
    "        x = str(x)\n",
    "        return (x == x[::-1])\n",
    "#     # return boolean directly\n",
    "#         if x < 0 :\n",
    "#             return False\n",
    "#         else:\n",
    "#             x1 = str(x)\n",
    "#             x2 = str(x)[::-1]\n",
    "#             if x1 == x2:\n",
    "#                 return True\n",
    "#             else:\n",
    "#                 return False\n",
    "        \n",
    "if __name__ == \"__main__\":\n",
    "    s = Solution()\n",
    "    print(s.isPalindrome(10))"
   ]
  },
  {
   "cell_type": "code",
   "execution_count": 32,
   "metadata": {},
   "outputs": [
    {
     "name": "stdout",
     "output_type": "stream",
     "text": [
      "dcba\n",
      "gfe\n",
      "gfedcba\n",
      "cde\n",
      "\n",
      "fed\n"
     ]
    }
   ],
   "source": [
    "x = 'abcdefg'\n",
    "print(x[3::-1])\n",
    "print(x[-1:-4:-1])\n",
    "print(x[-1::-1])\n",
    "print(x[2:-2:1])\n",
    "print(x[2:-2:-1])\n",
    "print(x[-2:2:-1])\n"
   ]
  }
 ],
 "metadata": {
  "kernelspec": {
   "display_name": "Python 3",
   "language": "python",
   "name": "python3"
  },
  "language_info": {
   "codemirror_mode": {
    "name": "ipython",
    "version": 3
   },
   "file_extension": ".py",
   "mimetype": "text/x-python",
   "name": "python",
   "nbconvert_exporter": "python",
   "pygments_lexer": "ipython3",
   "version": "3.7.3"
  },
  "varInspector": {
   "cols": {
    "lenName": 16,
    "lenType": 16,
    "lenVar": 40
   },
   "kernels_config": {
    "python": {
     "delete_cmd_postfix": "",
     "delete_cmd_prefix": "del ",
     "library": "var_list.py",
     "varRefreshCmd": "print(var_dic_list())"
    },
    "r": {
     "delete_cmd_postfix": ") ",
     "delete_cmd_prefix": "rm(",
     "library": "var_list.r",
     "varRefreshCmd": "cat(var_dic_list()) "
    }
   },
   "types_to_exclude": [
    "module",
    "function",
    "builtin_function_or_method",
    "instance",
    "_Feature"
   ],
   "window_display": false
  }
 },
 "nbformat": 4,
 "nbformat_minor": 2
}
