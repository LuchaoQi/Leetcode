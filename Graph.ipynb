{
 "cells": [
  {
   "cell_type": "markdown",
   "metadata": {},
   "source": [
    "# 1042. Flower Planting With No Adjacent\n",
    "https://leetcode.com/problems/flower-planting-with-no-adjacent/"
   ]
  },
  {
   "cell_type": "code",
   "execution_count": 3,
   "metadata": {},
   "outputs": [],
   "source": [
    "class Solution:\n",
    "    def gardenNoAdj(self, N, paths):\n",
    "        res = [0] * N\n",
    "        G = [[] for i in range(N)]\n",
    "        for x, y in paths:\n",
    "            G[x - 1].append(y - 1)\n",
    "            G[y - 1].append(x - 1)\n",
    "        for i in range(N):\n",
    "            res[i] = ({1, 2, 3, 4} - {res[j] for j in G[i]}).pop()\n",
    "            # The pop() method returns the removed item.\n",
    "            # Great solution: set minus set \n",
    "        return res"
   ]
  },
  {
   "cell_type": "markdown",
   "metadata": {},
   "source": [
    "# 997. Find the Town Judge\n",
    "https://leetcode.com/problems/find-the-town-judge/"
   ]
  },
  {
   "cell_type": "code",
   "execution_count": 4,
   "metadata": {},
   "outputs": [],
   "source": [
    "class Solution:\n",
    "    def findJudge(self, N, trust):\n",
    "        count = [0] * (N + 1)\n",
    "        for i, j in trust:\n",
    "            count[i] -= 1\n",
    "            count[j] += 1\n",
    "        for i in range(1, N + 1):\n",
    "            if count[i] == N - 1:\n",
    "                return i\n",
    "        return -1"
   ]
  }
 ],
 "metadata": {
  "kernelspec": {
   "display_name": "Python 3",
   "language": "python",
   "name": "python3"
  },
  "language_info": {
   "codemirror_mode": {
    "name": "ipython",
    "version": 3
   },
   "file_extension": ".py",
   "mimetype": "text/x-python",
   "name": "python",
   "nbconvert_exporter": "python",
   "pygments_lexer": "ipython3",
   "version": "3.7.4"
  }
 },
 "nbformat": 4,
 "nbformat_minor": 4
}
