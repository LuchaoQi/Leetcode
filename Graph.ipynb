{
 "cells": [
  {
   "cell_type": "markdown",
   "metadata": {},
   "source": [
    "# Summary"
   ]
  },
  {
   "cell_type": "code",
   "execution_count": null,
   "metadata": {},
   "outputs": [],
   "source": [
    "1. create the graph\n",
    "2. visited path based\n",
    "3. dfs # https://www.youtube.com/watch?v=Qqgck2ijUjU\n",
    "# 看题目210\n",
    "# 或者\n",
    "# 简单的按照1042/997的题目来做"
   ]
  },
  {
   "cell_type": "markdown",
   "metadata": {},
   "source": [
    "# 1192. Critical Connections in a Network\n",
    "https://leetcode.com/problems/critical-connections-in-a-network/"
   ]
  },
  {
   "cell_type": "code",
   "execution_count": null,
   "metadata": {},
   "outputs": [],
   "source": [
    "# https://leetcode.com/problems/critical-connections-in-a-network/discuss/410345/Python-(98-Time-100-Memory)-clean-solution-with-explanaions-for-confused-people-like-me/448920\n",
    "\n",
    "class Solution:\n",
    "    def criticalConnections(self, n: int, connections: List[List[int]]) -> List[List[int]]:\n",
    "        g = collections.defaultdict(list)\n",
    "        for u,v in connections:\n",
    "            g[u].append(v)\n",
    "            g[v].append(u)\n",
    "\n",
    "        step = [-1] * n\n",
    "        \n",
    "        def dfs(cur,par,lvl,step,res,g):\n",
    "            \n",
    "            step[cur] = lvl + 1\n",
    "            \n",
    "            for child in g[cur]:\n",
    "                if child == par:\n",
    "                    continue\n",
    "                elif step[child] == -1:\n",
    "                    step[cur] = min(step[cur], dfs(child,cur,lvl+1,step,res,g))\n",
    "                else:\n",
    "                    step[cur] = min(step[cur], step[child])\n",
    "                    \n",
    "            if step[cur] == lvl +1 and cur != 0:\n",
    "                res.append([par,cur])\n",
    "                \n",
    "            return step[cur]\n",
    "        \n",
    "        res = []\n",
    "        dfs(0,-1,0,step,res,g)\n",
    "        \n",
    "        return res"
   ]
  },
  {
   "cell_type": "markdown",
   "metadata": {},
   "source": [
    "# 207. Course Schedule\n",
    "https://leetcode.com/problems/course-schedule/"
   ]
  },
  {
   "cell_type": "code",
   "execution_count": null,
   "metadata": {},
   "outputs": [],
   "source": [
    "# https://leetcode.com/problems/course-schedule/discuss/58586/Python-20-lines-DFS-solution-sharing-with-explanation\n",
    "\n",
    "# https://blog.csdn.net/fuxuemingzhu/article/details/82951771   \n",
    "\n",
    "# bfs\n",
    "class Solution(object):\n",
    "    def canFinish(self, N, prerequisites):\n",
    "        \"\"\"\n",
    "        :type N,: int\n",
    "        :type prerequisites: List[List[int]]\n",
    "        :rtype: bool\n",
    "        \"\"\"\n",
    "        graph = collections.defaultdict(list)\n",
    "        indegrees = collections.defaultdict(int)\n",
    "        for u, v in prerequisites:\n",
    "            graph[v].append(u)\n",
    "            indegrees[u] += 1\n",
    "        for i in range(N):\n",
    "            zeroDegree = False\n",
    "            for j in range(N):\n",
    "                if indegrees[j] == 0:\n",
    "                    zeroDegree = True\n",
    "                    break\n",
    "            if not zeroDegree: return False\n",
    "            indegrees[j] = -1\n",
    "            for node in graph[j]:\n",
    "                indegrees[node] -= 1\n",
    "        return True  \n",
    "\n",
    "# dfs\n",
    "class Solution(object):\n",
    "    def canFinish(self, N, prerequisites):\n",
    "        \"\"\"\n",
    "        :type N,: int\n",
    "        :type prerequisites: List[List[int]]\n",
    "        :rtype: bool\n",
    "        \"\"\"\n",
    "        graph = collections.defaultdict(list)\n",
    "        for u, v in prerequisites:\n",
    "            graph[u].append(v)\n",
    "        # 0 = Unknown, 1 = visiting, 2 = visited\n",
    "        visited = [0] * N\n",
    "        for i in range(N):\n",
    "            if not self.dfs(graph, visited, i):\n",
    "                return False\n",
    "        return True\n",
    "        \n",
    "    # Can we add node i to visited successfully?\n",
    "    def dfs(self, graph, visited, i):\n",
    "        if visited[i] == 1: return False\n",
    "        if visited[i] == 2: return True\n",
    "        visited[i] = 1\n",
    "        for child in graph[i]:\n",
    "            if not self.dfs(graph, visited, child):\n",
    "                return False\n",
    "        visited[i] = 2\n",
    "        return True\n",
    "             "
   ]
  },
  {
   "cell_type": "markdown",
   "metadata": {},
   "source": [
    "# 210. Course Schedule II\n",
    "https://leetcode.com/problems/course-schedule-ii/"
   ]
  },
  {
   "cell_type": "code",
   "execution_count": null,
   "metadata": {},
   "outputs": [],
   "source": [
    "class Solution:\n",
    "    def findOrder(self, numCourses: int, prerequisites: List[List[int]]) -> List[int]:\n",
    "        self.g = collections.defaultdict(list)\n",
    "        for u,v in prerequisites:\n",
    "            self.g[u].append(v)\n",
    "        print(self.g)\n",
    "        self.res = []\n",
    "        # 0 for unknown, 1 for visiting, 2 for visited\n",
    "        self.visited = [0] * numCourses\n",
    "        for i in range(numCourses):\n",
    "            if not self.dfs(i):\n",
    "                return [] # continue to search the whole graph\n",
    "        return self.res\n",
    "        \n",
    "    def dfs(self, node):\n",
    "        if self.visited[node] == 1: # visiting\n",
    "            return False\n",
    "        if self.visited[node] == 2: # visited\n",
    "            return True\n",
    "        self.visited[node] = 1\n",
    "        for child in self.g[node]:\n",
    "            if not self.dfs(child):\n",
    "                return False # cycle detected \n",
    "        self.visited[node] = 2 # visited no cycle detected starting from this node\n",
    "        self.res.append(node) # add to solution as the course depenedent on previous ones\n",
    "        print(self.visited, self.res)\n",
    "        return True\n"
   ]
  },
  {
   "cell_type": "markdown",
   "metadata": {},
   "source": [
    "![image.png](https://i.loli.net/2020/06/06/kpFtOWirTwARzSG.png)"
   ]
  },
  {
   "cell_type": "markdown",
   "metadata": {},
   "source": [
    "# 1042. Flower Planting With No Adjacent\n",
    "https://leetcode.com/problems/flower-planting-with-no-adjacent/"
   ]
  },
  {
   "cell_type": "code",
   "execution_count": 3,
   "metadata": {},
   "outputs": [],
   "source": [
    "class Solution:\n",
    "    def gardenNoAdj(self, N, paths):\n",
    "        res = [0] * N\n",
    "        G = [[] for i in range(N)]\n",
    "        for x, y in paths:\n",
    "            G[x - 1].append(y - 1)\n",
    "            G[y - 1].append(x - 1)\n",
    "        for i in range(N):\n",
    "            res[i] = ({1, 2, 3, 4} - {res[j] for j in G[i]}).pop()\n",
    "            # The pop() method returns the removed item.\n",
    "            # Great solution: set minus set \n",
    "        return res"
   ]
  },
  {
   "cell_type": "markdown",
   "metadata": {},
   "source": [
    "# 997. Find the Town Judge\n",
    "https://leetcode.com/problems/find-the-town-judge/"
   ]
  },
  {
   "cell_type": "code",
   "execution_count": 4,
   "metadata": {},
   "outputs": [],
   "source": [
    "class Solution:\n",
    "    def findJudge(self, N, trust):\n",
    "        count = [0] * (N + 1)\n",
    "        for i, j in trust:\n",
    "            count[i] -= 1\n",
    "            count[j] += 1\n",
    "        for i in range(1, N + 1):\n",
    "            if count[i] == N - 1:\n",
    "                return i\n",
    "        return -1\n",
    "\n",
    "class Solution:\n",
    "    def findJudge(self, N: int, trust: List[List[int]]) -> int:\n",
    "        if N == 1: return 1\n",
    "        \n",
    "        graph = collections.defaultdict(list)\n",
    "        for u,v in trust:\n",
    "            graph[u] = graph.get(u,0) - 1\n",
    "            graph[v] = graph.get(v,0) + 1\n",
    "            \n",
    "            \n",
    "        for i in graph:\n",
    "            if graph[i] == N-1:\n",
    "                return i\n",
    "        return -1"
   ]
  }
 ],
 "metadata": {
  "kernelspec": {
   "display_name": "Python 3.7.5 64-bit",
   "language": "python",
   "name": "python37564bit6932499eb08041038e0fc47c2bf2c2e8"
  },
  "language_info": {
   "codemirror_mode": {
    "name": "ipython",
    "version": 3
   },
   "file_extension": ".py",
   "mimetype": "text/x-python",
   "name": "python",
   "nbconvert_exporter": "python",
   "pygments_lexer": "ipython3",
   "version": "3.7.5-final"
  }
 },
 "nbformat": 4,
 "nbformat_minor": 4
}