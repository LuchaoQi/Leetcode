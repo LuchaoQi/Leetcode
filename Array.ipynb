{
 "cells": [
  {
   "cell_type": "code",
   "execution_count": 1,
   "metadata": {
    "pycharm": {
     "is_executing": false
    }
   },
   "outputs": [
    {
     "name": "stdout",
     "text": [
      "[1, 2]\n",
      "['a', 'aac', 'aacd', 'aacf']\n",
      "['aacd', 'aacf', 'aac', 'a']\n",
      "aacf\n",
      "False\n",
      "-----\n",
      "\n",
      "True\n",
      "-----\n"
     ],
     "output_type": "stream"
    }
   ],
   "source": [
    "a = [1, 2, 3]\n",
    "print(a[:2])\n",
    "res = ['a', 'aac', 'aacd', 'aacf']\n",
    "s = sorted(res)\n",
    "print(s)\n",
    "s = sorted(res, key=lambda x: len(x), reverse=True)\n",
    "print(s)\n",
    "s = max(res)\n",
    "print(s)\n",
    "print('a' > 'aa')\n",
    "print('-----')\n",
    "print('a'[:-1])\n",
    "print('a'[:-1] == '')\n",
    "print('-----')"
   ]
  },
  {
   "cell_type": "markdown",
   "metadata": {},
   "source": [
    "# 720. Longest Word in Dictionary\n",
    "https://leetcode.com/problems/longest-word-in-dictionary/"
   ]
  },
  {
   "cell_type": "code",
   "execution_count": 8,
   "metadata": {
    "pycharm": {
     "is_executing": false
    }
   },
   "outputs": [],
   "source": [
    "class Solution:\n",
    "    def longestWord(self, words) -> str:\n",
    "        res = []\n",
    "        for word in words:\n",
    "            if all(word[:-i] in words for i in range(1,len(word))):\n",
    "                res.append(word)\n",
    "        res.sort(reverse = True,key = len)\n",
    "        if len(res[0]) > len(res[1]): return res[0]\n",
    "        else:\n",
    "            res = [i for i in res if len(i)==len(res[0])]\n",
    "            return sorted(res)[0]\n",
    "    \n",
    "# better\n",
    "class Solution(object):\n",
    "    def longestWord(self, words):\n",
    "        words.sort()\n",
    "        words_set, longest_word = set(['']), ''\n",
    "        for word in words:\n",
    "            if word[:-1] in words_set:\n",
    "                words_set.add(word)\n",
    "                if len(word) > len(longest_word):\n",
    "                    longest_word = word\n",
    "        return longest_word"
   ]
  },
  {
   "cell_type": "markdown",
   "metadata": {},
   "source": [
    "# 283. Move Zeroes\n",
    "https://leetcode.com/problems/move-zeroes/"
   ]
  },
  {
   "cell_type": "code",
   "execution_count": 3,
   "metadata": {
    "cell_style": "center"
   },
   "outputs": [],
   "source": [
    "class Solution(object):\n",
    "    def moveZeroes(self, nums):\n",
    "        \"\"\"\n",
    "        :type nums: List[int]\n",
    "        :rtype: None Do not return anything, modify nums in-place instead.\n",
    "        \"\"\"\n",
    "        count = nums.count(0)\n",
    "        nums[:] = [i for i in nums if i != 0]\n",
    "        nums += [0] * count"
   ]
  }
 ],
 "metadata": {
  "kernelspec": {
   "display_name": "Python 3",
   "language": "python",
   "name": "python3"
  },
  "language_info": {
   "codemirror_mode": {
    "name": "ipython",
    "version": 3
   },
   "file_extension": ".py",
   "mimetype": "text/x-python",
   "name": "python",
   "nbconvert_exporter": "python",
   "pygments_lexer": "ipython3",
   "version": "3.7.5"
  },
  "toc": {
   "base_numbering": 1,
   "nav_menu": {},
   "number_sections": false,
   "sideBar": true,
   "skip_h1_title": false,
   "title_cell": "Table of Contents",
   "title_sidebar": "Contents",
   "toc_cell": false,
   "toc_position": {},
   "toc_section_display": true,
   "toc_window_display": true
  },
  "varInspector": {
   "cols": {
    "lenName": 16,
    "lenType": 16,
    "lenVar": 40
   },
   "kernels_config": {
    "python": {
     "delete_cmd_postfix": "",
     "delete_cmd_prefix": "del ",
     "library": "var_list.py",
     "varRefreshCmd": "print(var_dic_list())"
    },
    "r": {
     "delete_cmd_postfix": ") ",
     "delete_cmd_prefix": "rm(",
     "library": "var_list.r",
     "varRefreshCmd": "cat(var_dic_list()) "
    }
   },
   "types_to_exclude": [
    "module",
    "function",
    "builtin_function_or_method",
    "instance",
    "_Feature"
   ],
   "window_display": false
  }
 },
 "nbformat": 4,
 "nbformat_minor": 2
}