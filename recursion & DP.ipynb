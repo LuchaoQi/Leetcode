{
 "cells": [
  {
   "cell_type": "markdown",
   "metadata": {},
   "source": [
    "# 1137. N-th Tribonacci Number"
   ]
  },
  {
   "cell_type": "code",
   "execution_count": null,
   "metadata": {},
   "outputs": [],
   "source": [
    "class Solution:\n",
    "    def tribonacci(self, n: int) -> int:\n",
    "        lst = [0,1,1]\n",
    "        if n <= 2:\n",
    "            return lst[n] \n",
    "        for i in range(n-2):\n",
    "            lst.append(lst[-1]+lst[-2]+lst[-3])\n",
    "        return lst[-1]\n",
    "    def tribonacci(self, n: int) -> int:\n",
    "        t0, t1, t2 = 0, 1, 1\n",
    "        if n ==0:\n",
    "            return 0\n",
    "        if n <= 2:\n",
    "            return 1\n",
    "        else:\n",
    "            for i in range(n-2):\n",
    "                t0, t1, t2 = t1, t2, t0+t1+t2\n",
    "            return t2"
   ]
  },
  {
   "cell_type": "markdown",
   "metadata": {},
   "source": [
    "# 938. Range Sum of BST"
   ]
  },
  {
   "cell_type": "code",
   "execution_count": 7,
   "metadata": {
    "ExecuteTime": {
     "end_time": "2020-02-20T01:58:25.043606Z",
     "start_time": "2020-02-20T01:58:25.030391Z"
    },
    "code_folding": []
   },
   "outputs": [],
   "source": [
    "# DFS traversal root left right 我们会发现循环的顺序符合DFS \n",
    "# 当然可以用BST的大小特性进一步优化\n",
    "# https://leetcode.com/problems/range-sum-of-bst/discuss/508398/python-99.6-recursive-fast-no-extra-variables\n",
    "# 注意细节 self.arr = [] 而不是 arr = []\n",
    "\n",
    "class Solution:\n",
    "    def rangeSumBST(self, root, L: int, R: int):\n",
    "        self.arr = []\n",
    "        self.fs(root, L, R)\n",
    "        return sum(self.arr)\n",
    "\n",
    "    def fs(self, root, L, R):\n",
    "        if root and L <= root.val <= R: self.arr.append(root.val)\n",
    "        if root.left: self.fs(root.left, L, R)\n",
    "        if root.right: self.fs(root.right, L, R)\n",
    "\n",
    "\n",
    "class Solution:\n",
    "    def rangeSumBST(self, root, L: int, R: int):\n",
    "        res = 0\n",
    "        if root and L <= root.val <= R: res += root.val\n",
    "        if root.left: res += self.rangeSumBST(root.left, L, R)\n",
    "        if root.right: res += self.rangeSumBST(root.right, L, R)\n",
    "        return res\n",
    "\n",
    "    \n",
    "# 运行以下代码能更加了解整个traversal\n",
    "# 以后碰到类似问题也可以按这个思路走\n",
    "class Solution:    \n",
    "    def rangeSumBST(self, root, L: int, R: int): \n",
    "        self.lst =[]\n",
    "        self.helper(root)\n",
    "        print(self.lst)\n",
    "    def helper(self,root):\n",
    "        if root: self.lst.append(root.val)\n",
    "        if root.left: self.helper(root.left)\n",
    "        if root.right: self.helper(root.right)"
   ]
  },
  {
   "cell_type": "markdown",
   "metadata": {},
   "source": [
    "# 783. Minimum Distance Between BST Nodes"
   ]
  },
  {
   "cell_type": "code",
   "execution_count": 9,
   "metadata": {
    "ExecuteTime": {
     "end_time": "2020-02-20T03:18:38.220143Z",
     "start_time": "2020-02-20T03:18:38.179176Z"
    },
    "collapsed": true
   },
   "outputs": [
    {
     "ename": "NameError",
     "evalue": "name 'TreeNode' is not defined",
     "output_type": "error",
     "traceback": [
      "\u001b[1;31m---------------------------------------------------------------------------\u001b[0m",
      "\u001b[1;31mNameError\u001b[0m                                 Traceback (most recent call last)",
      "\u001b[1;32m<ipython-input-9-9057c21455b3>\u001b[0m in \u001b[0;36m<module>\u001b[1;34m\u001b[0m\n\u001b[1;32m----> 1\u001b[1;33m \u001b[1;32mclass\u001b[0m \u001b[0mSolution\u001b[0m\u001b[1;33m:\u001b[0m\u001b[1;33m\u001b[0m\u001b[1;33m\u001b[0m\u001b[0m\n\u001b[0m\u001b[0;32m      2\u001b[0m     \u001b[1;32mdef\u001b[0m \u001b[0mminDiffInBST\u001b[0m\u001b[1;33m(\u001b[0m\u001b[0mself\u001b[0m\u001b[1;33m,\u001b[0m \u001b[0mroot\u001b[0m\u001b[1;33m:\u001b[0m \u001b[0mTreeNode\u001b[0m\u001b[1;33m)\u001b[0m \u001b[1;33m->\u001b[0m \u001b[0mint\u001b[0m\u001b[1;33m:\u001b[0m\u001b[1;33m\u001b[0m\u001b[1;33m\u001b[0m\u001b[0m\n\u001b[0;32m      3\u001b[0m         \u001b[0mself\u001b[0m\u001b[1;33m.\u001b[0m\u001b[0mlst\u001b[0m \u001b[1;33m=\u001b[0m \u001b[1;33m[\u001b[0m\u001b[1;33m]\u001b[0m\u001b[1;33m\u001b[0m\u001b[1;33m\u001b[0m\u001b[0m\n\u001b[0;32m      4\u001b[0m         \u001b[0mself\u001b[0m\u001b[1;33m.\u001b[0m\u001b[0mhelper\u001b[0m\u001b[1;33m(\u001b[0m\u001b[0mroot\u001b[0m\u001b[1;33m)\u001b[0m\u001b[1;33m\u001b[0m\u001b[1;33m\u001b[0m\u001b[0m\n\u001b[0;32m      5\u001b[0m         \u001b[1;31m# b/c property of BST, lst = sorted(lst)\u001b[0m\u001b[1;33m\u001b[0m\u001b[1;33m\u001b[0m\u001b[1;33m\u001b[0m\u001b[0m\n",
      "\u001b[1;32m<ipython-input-9-9057c21455b3>\u001b[0m in \u001b[0;36mSolution\u001b[1;34m()\u001b[0m\n\u001b[0;32m      1\u001b[0m \u001b[1;32mclass\u001b[0m \u001b[0mSolution\u001b[0m\u001b[1;33m:\u001b[0m\u001b[1;33m\u001b[0m\u001b[1;33m\u001b[0m\u001b[0m\n\u001b[1;32m----> 2\u001b[1;33m     \u001b[1;32mdef\u001b[0m \u001b[0mminDiffInBST\u001b[0m\u001b[1;33m(\u001b[0m\u001b[0mself\u001b[0m\u001b[1;33m,\u001b[0m \u001b[0mroot\u001b[0m\u001b[1;33m:\u001b[0m \u001b[0mTreeNode\u001b[0m\u001b[1;33m)\u001b[0m \u001b[1;33m->\u001b[0m \u001b[0mint\u001b[0m\u001b[1;33m:\u001b[0m\u001b[1;33m\u001b[0m\u001b[1;33m\u001b[0m\u001b[0m\n\u001b[0m\u001b[0;32m      3\u001b[0m         \u001b[0mself\u001b[0m\u001b[1;33m.\u001b[0m\u001b[0mlst\u001b[0m \u001b[1;33m=\u001b[0m \u001b[1;33m[\u001b[0m\u001b[1;33m]\u001b[0m\u001b[1;33m\u001b[0m\u001b[1;33m\u001b[0m\u001b[0m\n\u001b[0;32m      4\u001b[0m         \u001b[0mself\u001b[0m\u001b[1;33m.\u001b[0m\u001b[0mhelper\u001b[0m\u001b[1;33m(\u001b[0m\u001b[0mroot\u001b[0m\u001b[1;33m)\u001b[0m\u001b[1;33m\u001b[0m\u001b[1;33m\u001b[0m\u001b[0m\n\u001b[0;32m      5\u001b[0m         \u001b[1;31m# b/c property of BST, lst = sorted(lst)\u001b[0m\u001b[1;33m\u001b[0m\u001b[1;33m\u001b[0m\u001b[1;33m\u001b[0m\u001b[0m\n",
      "\u001b[1;31mNameError\u001b[0m: name 'TreeNode' is not defined"
     ]
    }
   ],
   "source": [
    "# 跟938类似, 只不过traversal的顺序有点变化\n",
    "# traversal left root right\n",
    "class Solution:\n",
    "    def minDiffInBST(self, root: TreeNode) -> int:\n",
    "        self.lst = []\n",
    "        self.helper(root)\n",
    "        \n",
    "        # find the minimum difference within a list\n",
    "        dif = self.lst[1] - self.lst[0]\n",
    "        for i in range(1,len(self.lst)):\n",
    "            if self.lst[i] - self.lst[i-1] < dif:\n",
    "                dif = self.lst[i] - self.lst[i-1]\n",
    "        return dif\n",
    "    \n",
    "    # save the tree to array and no need to sort b/c its BST\n",
    "    def helper(self, root):\n",
    "        if root.left: self.helper(root.left)\n",
    "        if root: self.lst.append(root.val)\n",
    "        if root.right: self.helper(root.right)"
   ]
  },
  {
   "cell_type": "markdown",
   "metadata": {
    "cell_style": "center"
   },
   "source": [
    "# 70. Climbing Stairs\n",
    "https://leetcode.com/problems/climbing-stairs/"
   ]
  },
  {
   "cell_type": "code",
   "execution_count": 2,
   "metadata": {
    "cell_style": "center"
   },
   "outputs": [],
   "source": [
    "# https://leetcode.com/problems/climbing-stairs/discuss/163347/Python-3000DP-or-tm\n",
    "\n",
    "# solution\n",
    "# f(n) = f(n-1) + f(n-2)\n",
    "# bound f(1) = 1 f(2) = 2 b/c 1,1 or 2\n",
    "\n",
    "\n",
    "# Bottom-Up (using array)\n",
    "class Solution(object):\n",
    "    def climbStairs(self, n):\n",
    "        if n == 1: return 1\n",
    "        res = [0 for i in range(n)]\n",
    "        res[0], res[1] = 1, 2\n",
    "        for i in range(2, n):\n",
    "            res[i] = res[i - 1] + res[i - 2]\n",
    "        return res[-1]\n",
    "\n",
    "\n",
    "# Bottom-Up (Constant Space)\n",
    "class Solution(object):\n",
    "    def climbStairs(self, n):\n",
    "        if n == 1: return 1\n",
    "        a, b = 1, 2\n",
    "        for _ in range(2, n):\n",
    "            a, b = b, a + b\n",
    "        return b"
   ]
  },
  {
   "cell_type": "markdown",
   "metadata": {
    "cell_style": "center"
   },
   "source": [
    "# 198. House Robber\n",
    "https://leetcode.com/problems/house-robber/"
   ]
  },
  {
   "cell_type": "code",
   "execution_count": 3,
   "metadata": {
    "cell_style": "center"
   },
   "outputs": [],
   "source": [
    "# https://www.youtube.com/watch?v=H75Qp7ExCwo\n",
    "# solution\n",
    "# a,b,c,d,e S\n",
    "# 1,0,1,0,1\n",
    "# 1,0,0,1,0\n",
    "# func: f(n) = max(f(n-2)+ s[n], f(n-1))\n",
    "# bound: f(0) = 0  f(1) = s[1]\n",
    "# so we begin from bottom up\n",
    "\n",
    "\n",
    "class Solution(object):\n",
    "    def rob(self, nums):\n",
    "        \"\"\"\n",
    "        :type nums: List[int]\n",
    "        :rtype: int\n",
    "        \"\"\"\n",
    "        length = len(nums)\n",
    "        if length == 0:\n",
    "            return 0\n",
    "        if length == 1:\n",
    "            return nums[0]\n",
    "\n",
    "        dp = [0] * length  # assign dp array\n",
    "        dp[0], dp[1] = nums[0], max(nums[0], nums[1])\n",
    "\n",
    "        for i in xrange(2, length):\n",
    "            dp[i] = max(dp[i - 2] + nums[i], dp[i - 1])\n",
    "\n",
    "        return dp[-1]\n",
    "\n",
    "\n",
    "# space optimization\n",
    "# /* the order is: prev2, prev1, num  */\n",
    "# prev2, prev1, num = max(prev2+n,prev1)\n",
    "# prev3, prev2, prev1, num (next round)\n",
    "# so for **next round** prev2 = prev1, prev1 = num\n",
    "# bound\n",
    "# 0,0,1,2,3,4,5,6\n",
    "# so robbing -2nd house and -1st house would not get money value = 0\n",
    "class Solution(object):\n",
    "    def rob(self, nums):\n",
    "        prev2, prev1 = 0, 0\n",
    "        for n in nums:\n",
    "            prev2, prev1 = prev1, max(prev2 + n, prev1)\n",
    "        return max(prev2, prev1)"
   ]
  },
  {
   "cell_type": "markdown",
   "metadata": {},
   "source": [
    "# 326. Power of Three\n",
    "https://leetcode.com/problems/power-of-three/"
   ]
  },
  {
   "cell_type": "code",
   "execution_count": 4,
   "metadata": {},
   "outputs": [],
   "source": [
    "class Solution:\n",
    "    def isPowerOfThree(self, n):\n",
    "        if n < 3:\n",
    "            return n == 1\n",
    "        return self.isPowerOfThree(n / 3)\n",
    "\n",
    "\n",
    "class Solution:\n",
    "    def isPowerOfThree(self, n):\n",
    "        while n > 2:\n",
    "            if n % 3 > 0: return False\n",
    "            n = n / 3\n",
    "        return n == 1"
   ]
  },
  {
   "cell_type": "markdown",
   "metadata": {},
   "source": [
    "# 101. Symmetric Tree\n",
    "https://leetcode.com/problems/symmetric-tree/"
   ]
  },
  {
   "cell_type": "code",
   "execution_count": 5,
   "metadata": {},
   "outputs": [],
   "source": [
    "class Solution:\n",
    "    def isSymmetric(self, root):\n",
    "        def isSym(L, R):\n",
    "            if not L and not R: return True\n",
    "            if L and R and L.val == R.val:\n",
    "                return isSym(L.left, R.right) and isSym(L.right, R.left)\n",
    "            return False\n",
    "\n",
    "        return isSym(root, root)"
   ]
  },
  {
   "cell_type": "markdown",
   "metadata": {
    "cell_style": "center"
   },
   "source": [
    "# 108. Convert Sorted Array to Binary Search Tree\n",
    "https://leetcode.com/problems/convert-sorted-array-to-binary-search-tree/"
   ]
  },
  {
   "cell_type": "code",
   "execution_count": 8,
   "metadata": {},
   "outputs": [],
   "source": [
    "class Solution:\n",
    "    def sortedArrayToBST(self, nums):\n",
    "        if not nums:\n",
    "            return None\n",
    "        mid = len(nums) // 2\n",
    "        root = TreeNode(nums[mid])\n",
    "        root.left = self.sortedArrayToBST(nums[:mid])\n",
    "        root.right = self.sortedArrayToBST(nums[mid + 1:])\n",
    "        return root"
   ]
  }
 ],
 "metadata": {
  "kernelspec": {
   "display_name": "Python 3",
   "language": "python",
   "name": "python3"
  },
  "language_info": {
   "codemirror_mode": {
    "name": "ipython",
    "version": 3
   },
   "file_extension": ".py",
   "mimetype": "text/x-python",
   "name": "python",
   "nbconvert_exporter": "python",
   "pygments_lexer": "ipython3",
   "version": "3.7.5"
  },
  "toc": {
   "base_numbering": 1,
   "nav_menu": {},
   "number_sections": false,
   "sideBar": true,
   "skip_h1_title": false,
   "title_cell": "Table of Contents",
   "title_sidebar": "Contents",
   "toc_cell": false,
   "toc_position": {
    "height": "calc(100% - 180px)",
    "left": "10px",
    "top": "150px",
    "width": "243.194px"
   },
   "toc_section_display": true,
   "toc_window_display": true
  },
  "varInspector": {
   "cols": {
    "lenName": 16,
    "lenType": 16,
    "lenVar": 40
   },
   "kernels_config": {
    "python": {
     "delete_cmd_postfix": "",
     "delete_cmd_prefix": "del ",
     "library": "var_list.py",
     "varRefreshCmd": "print(var_dic_list())"
    },
    "r": {
     "delete_cmd_postfix": ") ",
     "delete_cmd_prefix": "rm(",
     "library": "var_list.r",
     "varRefreshCmd": "cat(var_dic_list()) "
    }
   },
   "types_to_exclude": [
    "module",
    "function",
    "builtin_function_or_method",
    "instance",
    "_Feature"
   ],
   "window_display": false
  }
 },
 "nbformat": 4,
 "nbformat_minor": 4
}
