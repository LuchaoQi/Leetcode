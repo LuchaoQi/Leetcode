{
 "cells": [
  {
   "cell_type": "code",
   "execution_count": null,
   "metadata": {},
   "outputs": [],
   "source": [
    "i = e= 0\n",
    "n = 1\n",
    "i,e = n+e,max(i,e)\n",
    "print(i,e)"
   ]
  },
  {
   "cell_type": "markdown",
   "metadata": {
    "cell_style": "center"
   },
   "source": [
    "# 70. Climbing Stairs\n",
    "https://leetcode.com/problems/climbing-stairs/"
   ]
  },
  {
   "cell_type": "code",
   "execution_count": 8,
   "metadata": {
    "cell_style": "center"
   },
   "outputs": [],
   "source": [
    "# https://leetcode.com/problems/climbing-stairs/discuss/163347/Python-3000DP-or-tm\n",
    "\n",
    "# solution\n",
    "# f(n) = f(n-1) + f(n-2)\n",
    "# bound f(1) = 1 f(2) = 2 b/c 1,1 or 2\n",
    "\n",
    "\n",
    "# Bottom-Up (using array)\n",
    "class Solution(object):\n",
    "    def climbStairs(self, n):\n",
    "        if n == 1: return 1\n",
    "        res = [0 for i in range(n)]\n",
    "        res[0], res[1] = 1, 2\n",
    "        for i in range(2, n):\n",
    "            res[i] = res[i-1] + res[i-2]\n",
    "        return res[-1]\n",
    "    \n",
    "# Bottom-Up (Constant Space)\n",
    "class Solution(object):\n",
    "    def climbStairs(self, n):\n",
    "        if n == 1: return 1\n",
    "        a, b = 1, 2\n",
    "        for _ in range(2, n):\n",
    "            a, b = b, a + b\n",
    "        return b"
   ]
  },
  {
   "cell_type": "markdown",
   "metadata": {
    "cell_style": "center"
   },
   "source": [
    "# 198. House Robber\n",
    "https://leetcode.com/problems/house-robber/"
   ]
  },
  {
   "cell_type": "code",
   "execution_count": 6,
   "metadata": {
    "cell_style": "center"
   },
   "outputs": [],
   "source": [
    "# https://www.youtube.com/watch?v=H75Qp7ExCwo\n",
    "# solution\n",
    "# a,b,c,d,e S\n",
    "# 1,0,1,0,1\n",
    "# 1,0,0,1,0\n",
    "# func: f(n) = max(f(n-2)+ s[n], f(n-1))\n",
    "# bound: f(0) = 0  f(1) = s[1]\n",
    "# so we begin from bottom up\n",
    "\n",
    "class Solution(object):\n",
    "    def rob(self, nums):\n",
    "        \"\"\"\n",
    "        :type nums: List[int]\n",
    "        :rtype: int\n",
    "        \"\"\"\n",
    "        length = len(nums)\n",
    "        if length==0:\n",
    "            return 0\n",
    "        if length==1:\n",
    "            return nums[0]\n",
    "        \n",
    "        dp = [0]*length # assign dp array\n",
    "        dp[0], dp[1] = nums[0], max(nums[0], nums[1])\n",
    "        \n",
    "        for i in xrange(2, length):\n",
    "            dp[i] = max(dp[i-2]+nums[i], dp[i-1])\n",
    "        \n",
    "        return dp[-1]\n",
    "\n",
    "# space optimization\n",
    "# /* the order is: prev2, prev1, num  */\n",
    "# prev2, prev1, num = max(prev2+n,prev1)\n",
    "# prev3, prev2, prev1, num (next round)\n",
    "# so for **next round** prev2 = prev1, prev1 = num\n",
    "# bound\n",
    "# 0,0,1,2,3,4,5,6\n",
    "# so robbing -2nd house and -1st house would not get money value = 0\n",
    "class Solution(object):\n",
    "    def rob(self, nums):\n",
    "        prev2, prev1 = 0,0\n",
    "        for n in nums:\n",
    "            prev2, prev1 = prev1,max(prev2+n,prev1)\n",
    "        return max(prev2,prev1)"
   ]
  },
  {
   "cell_type": "markdown",
   "metadata": {},
   "source": [
    "# 326. Power of Three\n",
    "https://leetcode.com/problems/power-of-three/"
   ]
  },
  {
   "cell_type": "code",
   "execution_count": 1,
   "metadata": {},
   "outputs": [],
   "source": [
    "\n",
    "class Solution:\n",
    "    def isPowerOfThree(self, n):\n",
    "        if n < 3:\n",
    "            return n == 1\n",
    "        return self.isPowerOfThree(n/3)\n",
    "    \n",
    "class Solution:\n",
    "    def isPowerOfThree(self, n):\n",
    "        while n > 2:\n",
    "            if n % 3 > 0: return False\n",
    "            n = n / 3\n",
    "        return n == 1"
   ]
  },
  {
   "cell_type": "markdown",
   "metadata": {},
   "source": [
    "# 101. Symmetric Tree\n",
    "https://leetcode.com/problems/symmetric-tree/"
   ]
  },
  {
   "cell_type": "code",
   "execution_count": 5,
   "metadata": {},
   "outputs": [],
   "source": [
    "\n",
    "class Solution:\n",
    "    def isSymmetric(self, root):\n",
    "        def isSym(L,R):\n",
    "            if not L and not R: return True\n",
    "            if L and R and L.val == R.val: \n",
    "                return isSym(L.left, R.right) and isSym(L.right, R.left)\n",
    "            return False\n",
    "        return isSym(root, root)"
   ]
  },
  {
   "cell_type": "markdown",
   "metadata": {
    "cell_style": "center"
   },
   "source": [
    "# 108. Convert Sorted Array to Binary Search Tree\n",
    "https://leetcode.com/problems/convert-sorted-array-to-binary-search-tree/"
   ]
  },
  {
   "cell_type": "code",
   "execution_count": null,
   "metadata": {},
   "outputs": [],
   "source": [
    "\n",
    "class Solution:\n",
    "    def sortedArrayToBST(self, nums: List[int]) -> TreeNode:\n",
    "        if not nums:\n",
    "            return None\n",
    "        mid = len(nums)//2\n",
    "        root = TreeNode(nums[mid])\n",
    "        root.left = self.sortedArrayToBST(nums[:mid])\n",
    "        root.right = self.sortedArrayToBST(nums[mid+1:])\n",
    "        return root"
   ]
  }
 ],
 "metadata": {
  "kernelspec": {
   "display_name": "Python 3",
   "language": "python",
   "name": "python3"
  },
  "language_info": {
   "codemirror_mode": {
    "name": "ipython",
    "version": 3
   },
   "file_extension": ".py",
   "mimetype": "text/x-python",
   "name": "python",
   "nbconvert_exporter": "python",
   "pygments_lexer": "ipython3",
   "version": "3.7.2"
  },
  "toc": {
   "base_numbering": 1,
   "nav_menu": {},
   "number_sections": false,
   "sideBar": true,
   "skip_h1_title": false,
   "title_cell": "Table of Contents",
   "title_sidebar": "Contents",
   "toc_cell": false,
   "toc_position": {
    "height": "calc(100% - 180px)",
    "left": "10px",
    "top": "150px",
    "width": "243.194px"
   },
   "toc_section_display": true,
   "toc_window_display": true
  },
  "varInspector": {
   "cols": {
    "lenName": 16,
    "lenType": 16,
    "lenVar": 40
   },
   "kernels_config": {
    "python": {
     "delete_cmd_postfix": "",
     "delete_cmd_prefix": "del ",
     "library": "var_list.py",
     "varRefreshCmd": "print(var_dic_list())"
    },
    "r": {
     "delete_cmd_postfix": ") ",
     "delete_cmd_prefix": "rm(",
     "library": "var_list.r",
     "varRefreshCmd": "cat(var_dic_list()) "
    }
   },
   "types_to_exclude": [
    "module",
    "function",
    "builtin_function_or_method",
    "instance",
    "_Feature"
   ],
   "window_display": false
  }
 },
 "nbformat": 4,
 "nbformat_minor": 2
}
