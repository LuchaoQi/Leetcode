{
 "cells": [
  {
   "cell_type": "code",
   "execution_count": null,
   "metadata": {},
   "outputs": [],
   "source": []
  },
  {
   "cell_type": "code",
   "execution_count": 3,
   "metadata": {
    "ExecuteTime": {
     "end_time": "2020-02-27T02:55:27.967165Z",
     "start_time": "2020-02-27T02:55:27.958171Z"
    }
   },
   "outputs": [
    {
     "name": "stdout",
     "output_type": "stream",
     "text": [
      "{3, 4, 5}\n",
      "asd\n"
     ]
    }
   ],
   "source": [
    "a = [1,2,3,4,5]\n",
    "a = [5,4,3,2,1]\n",
    "b = [3,4,4,5,5,6]\n",
    "print(set(a).intersection(b))\n",
    "\n",
    "a = 'asd'\n",
    "a + 'c'\n",
    "print(a)"
   ]
  },
  {
   "cell_type": "markdown",
   "metadata": {},
   "source": [
    "# Summary"
   ]
  },
  {
   "cell_type": "code",
   "execution_count": null,
   "metadata": {},
   "outputs": [],
   "source": [
    "# 模板是\n",
    "info = []\n",
    "while head:\n",
    "    info.append(head.val)\n",
    "    head = head.next\n",
    "\n",
    "# 做不出来就用pointer来解题\n",
    "\n",
    "\n",
    "\n",
    "# 构建linkedlist\n",
    "\n",
    "# class ListNode:\n",
    "#     def __init__(self, x):\n",
    "#         self.val = x\n",
    "#         self.next = None\n",
    "\n",
    "# 这种最好用\n",
    "        res = cur = ListNode(lst[0])\n",
    "        for i in lst[1:]:\n",
    "            cur.next = ListNode(i)\n",
    "            cur = cur.next\n",
    "        return res\n",
    "\n",
    "#     类似的方法\n",
    "        cur = res = ListNode(-1)\n",
    "        for i in lst:\n",
    "            cur.next = ListNode(i)\n",
    "            cur = cur.next\n",
    "        return res.next\n"
   ]
  },
  {
   "cell_type": "markdown",
   "metadata": {},
   "source": [
    "# Reverse"
   ]
  },
  {
   "cell_type": "code",
   "execution_count": 1,
   "metadata": {
    "ExecuteTime": {
     "end_time": "2020-03-03T21:56:13.890281Z",
     "start_time": "2020-03-03T21:56:13.873012Z"
    }
   },
   "outputs": [
    {
     "name": "stdout",
     "output_type": "stream",
     "text": [
      "1 140735797817616\n",
      "1 140735797817616\n",
      "1 140735797817616\n",
      "2 140735797817648\n"
     ]
    }
   ],
   "source": [
    "# array\n",
    "# https://blog.csdn.net/u011452172/article/details/78127836\n",
    "class Solution:\n",
    "    def reverseList(self, head: ListNode) -> ListNode:\n",
    "        if not head: return None\n",
    "        lst = []\n",
    "        while head:\n",
    "            lst.append(head.val)\n",
    "            head = head.next\n",
    "        lst.reverse()\n",
    "        res = cur = ListNode(lst[0])\n",
    "        for i in lst[1:]:\n",
    "            cur.next = ListNode(i)\n",
    "            cur = cur.next\n",
    "        return res\n",
    "    \n",
    "# recursively\n",
    "# https://www.youtube.com/watch?v=MRe3UsRadKw\n",
    "class Solution:\n",
    "    def reverseList(self,head):\n",
    "        if head is None or head.next is None:\n",
    "            return head\n",
    "        else:\n",
    "            newhead=self.reverseList(head.next)\n",
    "            head.next.next=head\n",
    "            head.next=None\n",
    "        return newhead\n",
    "\n",
    "\n",
    "# iteratively\n",
    "# 按逻辑上来说我们希望\n",
    "cur.next = prev\n",
    "prev = cur\n",
    "cur = cur.next\n",
    "# 但是我们发现cur.next在cur=cur.next之前已经被赋值 = prev\n",
    "# 所以我们采用如下互换的方法\n",
    "\n",
    "class Solution:\n",
    "    def reverseList(self,head):\n",
    "        if not head: return None\n",
    "        cur = head\n",
    "        prev = None\n",
    "        while cur:\n",
    "            cur.next, prev, cur = prev, cur, cur.next\n",
    "        return prev\n",
    "    \n",
    "# https://www.cnblogs.com/my_life/articles/7269212.html\n",
    "\n",
    "a = b = 1\n",
    "bnext = 2\n",
    "print(a,id(a))\n",
    "print(b,id(b))\n",
    "b = bnext\n",
    "print(a,id(a))\n",
    "print(b,id(b))\n",
    "\n",
    "# wrong demo\n",
    "class Solution:\n",
    "    def reverseList(self,head):\n",
    "        cur = prev = None\n",
    "        while head:\n",
    "            cur = head\n",
    "            cur.next = prev\n",
    "            head = head.next\n",
    "            prev = cur\n",
    "        return prev\n",
    "# right \n",
    "class Solution:\n",
    "    def reverseList(self, head):\n",
    "        cur = prev = None\n",
    "        while head:\n",
    "            cur = head\n",
    "            head = head.next                                                       \n",
    "            cur.next = prev\n",
    "            prev = cur\n",
    "        return prev #如果返回cur 根据cur = head, head = head.next那么结果返回的就是空\n",
    "\n"
   ]
  },
  {
   "cell_type": "markdown",
   "metadata": {},
   "source": [
    "# Merge"
   ]
  },
  {
   "cell_type": "code",
   "execution_count": 28,
   "metadata": {},
   "outputs": [
    {
     "name": "stdout",
     "output_type": "stream",
     "text": [
      "3\n"
     ]
    }
   ],
   "source": [
    "print(int(3.6))"
   ]
  },
  {
   "cell_type": "code",
   "execution_count": 12,
   "metadata": {},
   "outputs": [],
   "source": [
    "# array\n",
    "class Solution:\n",
    "    def mergeTwoLists(self,l1,l2):\n",
    "        array = []\n",
    "        while l1 and l2:\n",
    "            if l1.val < l2.val:\n",
    "                array.append(l1.val)\n",
    "                l1 = l1.next\n",
    "            else:\n",
    "                array.append(l2.val)\n",
    "                l2 = l2.next\n",
    "        temp = res = ListNode(None)\n",
    "        for i in array:\n",
    "            temp.next = ListNode(i)\n",
    "            temp = temp.next\n",
    "        temp.next = l1 or l2\n",
    "        return res.next\n",
    "\n",
    "\n",
    "\n",
    "# Recursive Algo\n",
    "class Solution:\n",
    "    def mergeTwoLists(self, l1, l2):\n",
    "        temp = None\n",
    "        if not l1 or not l2:\n",
    "            return l1 or l2\n",
    "        if l1.val < l2.val:\n",
    "            temp = l1\n",
    "            temp.next = self.mergeTwoLists(l1.next,l2)\n",
    "        else:\n",
    "            temp = l2\n",
    "            temp.next = self.mergeTwoLists(l1,l2.next)\n",
    "        return temp\n",
    "\n",
    "# iteratively\n",
    "class Solution:\n",
    "    def mergeTwoLists(self, l1, l2):\n",
    "        if l1 is None or l2 is None:\n",
    "            return l1 or l2\n",
    "        # dummy head\n",
    "        cur = res = ListNode(None)\n",
    "        while l1 and l2:\n",
    "            if l1.val < l2.val:\n",
    "                cur.next = l1\n",
    "                l1 = l1.next\n",
    "            else:\n",
    "                cur.next = l2\n",
    "                l2 = l2.next\n",
    "            cur = cur.next\n",
    "        #update the cur chain to move forward\n",
    "        cur.next = l1 or l2\n",
    "        # return the chain of dummy.next\n",
    "        return res.next"
   ]
  },
  {
   "cell_type": "markdown",
   "metadata": {},
   "source": [
    "# Middle of the Linked List"
   ]
  },
  {
   "cell_type": "code",
   "execution_count": null,
   "metadata": {},
   "outputs": [],
   "source": [
    "class Solution:\n",
    "    def middleNode(self, head: ListNode) -> ListNode:\n",
    "        array = []\n",
    "        while head:\n",
    "            array.append(head.val)\n",
    "            head = head.next\n",
    "        temp = res = ListNode(None)\n",
    "        ############################floor of number\n",
    "        index = int(len(array)/2)\n",
    "        ############################\n",
    "        for i in array[index:]:\n",
    "            temp.next = ListNode(i)\n",
    "            temp = temp.next\n",
    "        return res.next"
   ]
  },
  {
   "cell_type": "markdown",
   "metadata": {},
   "source": [
    "# Miscellaneous"
   ]
  },
  {
   "cell_type": "code",
   "execution_count": 1,
   "metadata": {
    "ExecuteTime": {
     "end_time": "2020-03-12T19:58:57.892269Z",
     "start_time": "2020-03-12T19:58:57.882256Z"
    },
    "scrolled": true
   },
   "outputs": [
    {
     "name": "stdout",
     "output_type": "stream",
     "text": [
      "a==b: True\n",
      "[1, 2, 3, 4] [1, 2, 3, 4]\n",
      "a==b: False\n",
      "[1, 2, 3, 4] [2, 3, 54]\n"
     ]
    }
   ],
   "source": [
    "a = b = [1,2,3]\n",
    "b.append(4)\n",
    "print('a==b:',b == a)\n",
    "print(a,b)\n",
    "b = [2,3,54]\n",
    "print('a==b:',b == a)\n",
    "print(a,b)"
   ]
  }
 ],
 "metadata": {
  "kernelspec": {
   "display_name": "Python 3",
   "language": "python",
   "name": "python3"
  },
  "language_info": {
   "codemirror_mode": {
    "name": "ipython",
    "version": 3
   },
   "file_extension": ".py",
   "mimetype": "text/x-python",
   "name": "python",
   "nbconvert_exporter": "python",
   "pygments_lexer": "ipython3",
   "version": "3.7.5"
  },
  "toc": {
   "base_numbering": 1,
   "nav_menu": {},
   "number_sections": false,
   "sideBar": true,
   "skip_h1_title": false,
   "title_cell": "Table of Contents",
   "title_sidebar": "Contents",
   "toc_cell": false,
   "toc_position": {},
   "toc_section_display": true,
   "toc_window_display": true
  },
  "varInspector": {
   "cols": {
    "lenName": 16,
    "lenType": 16,
    "lenVar": 40
   },
   "kernels_config": {
    "python": {
     "delete_cmd_postfix": "",
     "delete_cmd_prefix": "del ",
     "library": "var_list.py",
     "varRefreshCmd": "print(var_dic_list())"
    },
    "r": {
     "delete_cmd_postfix": ") ",
     "delete_cmd_prefix": "rm(",
     "library": "var_list.r",
     "varRefreshCmd": "cat(var_dic_list()) "
    }
   },
   "types_to_exclude": [
    "module",
    "function",
    "builtin_function_or_method",
    "instance",
    "_Feature"
   ],
   "window_display": false
  }
 },
 "nbformat": 4,
 "nbformat_minor": 4
}
