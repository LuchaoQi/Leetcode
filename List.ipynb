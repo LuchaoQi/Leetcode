{
 "cells": [
  {
   "cell_type": "markdown",
   "metadata": {},
   "source": [
    "# list of list"
   ]
  },
  {
   "cell_type": "code",
   "execution_count": 3,
   "metadata": {},
   "outputs": [
    {
     "name": "stdout",
     "output_type": "stream",
     "text": [
      "[[0, 1, 2], [0, 1, 2, 3, 4, 5], [1, 2, 3], [1, 2, 3, 100], [9, 2]]\n",
      "0 [1, 2]\n",
      "9 [2]\n",
      "1 [2, 3, 100]\n",
      "1 [2, 3]\n",
      "0 [1, 2, 3, 4, 5]\n"
     ]
    }
   ],
   "source": [
    "# sorted\n",
    "a = [[0, 1, 2], [9, 2], [1, 2, 3, 100], [1, 2, 3], [0, 1, 2, 3, 4, 5]]\n",
    "b = sorted(a)\n",
    "print(b)\n",
    "\n",
    "# iteration through the structure\n",
    "# for x,y in a: blahblah if lens are same\n",
    "for x, *y in a:\n",
    "    print(x, y)"
   ]
  },
  {
   "cell_type": "markdown",
   "metadata": {},
   "source": [
    "# index out of range"
   ]
  },
  {
   "cell_type": "code",
   "execution_count": 45,
   "metadata": {},
   "outputs": [
    {
     "name": "stdout",
     "output_type": "stream",
     "text": [
      "list index out of range\n",
      "[]\n",
      "b is empty\n",
      "Can also be None\n"
     ]
    }
   ],
   "source": [
    "# sometimes we need code still return something even the index out of range\n",
    "a = [1, 2, 3]\n",
    "# it returns error\n",
    "try:\n",
    "    b = a[5]\n",
    "    print(b)\n",
    "except Exception as e:\n",
    "    print(e)\n",
    "\n",
    "# it returns empty\n",
    "b = a[5:]\n",
    "print(b)\n",
    "if not b:\n",
    "    print('b is empty')\n",
    "if not None:\n",
    "    print('Can also be None')"
   ]
  },
  {
   "cell_type": "markdown",
   "metadata": {},
   "source": [
    "# 283. Move Zeroes \n",
    "https://leetcode.com/problems/move-zeroes/"
   ]
  },
  {
   "cell_type": "code",
   "execution_count": 2,
   "metadata": {},
   "outputs": [],
   "source": [
    "class Solution(object):\n",
    "    def moveZeroes(self, nums):\n",
    "        \"\"\"\n",
    "        :type nums: List[int]\n",
    "        :rtype: None Do not return anything, modify nums in-place instead.\n",
    "        \"\"\"\n",
    "        count = nums.count(0)\n",
    "        nums[:] = [i for i in nums if i != 0]\n",
    "        nums += [0] * count"
   ]
  },
  {
   "cell_type": "markdown",
   "metadata": {},
   "source": [
    "# key in max/min/sort"
   ]
  },
  {
   "cell_type": "code",
   "execution_count": 44,
   "metadata": {},
   "outputs": [
    {
     "name": "stdout",
     "output_type": "stream",
     "text": [
      "1\n",
      "0\n",
      "['aacd', 'aacf', 'aac', 'a']\n"
     ]
    }
   ],
   "source": [
    "lst = [40, 10, 20, 30]\n",
    "\n",
    "\n",
    "def minIndex(lst):\n",
    "    return min(range(len(lst)), key=lst.__getitem__)\n",
    "\n",
    "\n",
    "def maxIndex(lst):\n",
    "    return max(range(len(lst)), key=lambda x: lst[x])\n",
    "\n",
    "\n",
    "print(min(range(len(lst)), key=lambda x: lst[x]))\n",
    "print(maxIndex(lst))\n",
    "\n",
    "res = ['a', 'aac', 'aacd', 'aacf']\n",
    "s = sorted(res, key=lambda x: len(x), reverse=True)\n",
    "print(s)"
   ]
  }
 ],
 "metadata": {
  "kernelspec": {
   "display_name": "Python 3",
   "language": "python",
   "name": "python3"
  },
  "language_info": {
   "codemirror_mode": {
    "name": "ipython",
    "version": 3
   },
   "file_extension": ".py",
   "mimetype": "text/x-python",
   "name": "python",
   "nbconvert_exporter": "python",
   "pygments_lexer": "ipython3",
   "version": "3.7.5"
  },
  "toc": {
   "base_numbering": 1,
   "nav_menu": {},
   "number_sections": false,
   "sideBar": true,
   "skip_h1_title": false,
   "title_cell": "Table of Contents",
   "title_sidebar": "Contents",
   "toc_cell": false,
   "toc_position": {},
   "toc_section_display": true,
   "toc_window_display": true
  },
  "varInspector": {
   "cols": {
    "lenName": 16,
    "lenType": 16,
    "lenVar": 40
   },
   "kernels_config": {
    "python": {
     "delete_cmd_postfix": "",
     "delete_cmd_prefix": "del ",
     "library": "var_list.py",
     "varRefreshCmd": "print(var_dic_list())"
    },
    "r": {
     "delete_cmd_postfix": ") ",
     "delete_cmd_prefix": "rm(",
     "library": "var_list.r",
     "varRefreshCmd": "cat(var_dic_list()) "
    }
   },
   "types_to_exclude": [
    "module",
    "function",
    "builtin_function_or_method",
    "instance",
    "_Feature"
   ],
   "window_display": false
  }
 },
 "nbformat": 4,
 "nbformat_minor": 4
}
