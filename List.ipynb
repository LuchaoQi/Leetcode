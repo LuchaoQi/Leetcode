{
 "cells": [
  {
   "cell_type": "code",
   "execution_count": 4,
   "metadata": {},
   "outputs": [
    {
     "name": "stdout",
     "output_type": "stream",
     "text": [
      "Collecting jupyterlab\n",
      "  Downloading https://files.pythonhosted.org/packages/2b/64/af7f2dc98ce000cace7b6440cd951b9e1a748973d049bfc73eea4247dfc1/jupyterlab-1.2.0-py2.py3-none-any.whl (6.4MB)\n",
      "Collecting jupyterlab-server~=1.0.0 (from jupyterlab)\n",
      "  Downloading https://files.pythonhosted.org/packages/78/98/5b87b9d38176bd98f23b58a8fb730e5124618d68571a011abbd38ad4a842/jupyterlab_server-1.0.6-py3-none-any.whl\n",
      "Requirement already satisfied: jinja2>=2.10 in c:\\users\\lcqi\\.conda\\envs\\python\\lib\\site-packages (from jupyterlab) (2.10.1)\n",
      "Requirement already satisfied: notebook>=4.3.1 in c:\\users\\lcqi\\.conda\\envs\\python\\lib\\site-packages (from jupyterlab) (6.0.1)\n",
      "Requirement already satisfied: tornado!=6.0.0,!=6.0.1,!=6.0.2 in c:\\users\\lcqi\\.conda\\envs\\python\\lib\\site-packages (from jupyterlab) (6.0.3)\n",
      "Collecting json5 (from jupyterlab-server~=1.0.0->jupyterlab)\n",
      "  Downloading https://files.pythonhosted.org/packages/30/44/062543d4a6718f99d82e5ecf9140dbdee8a03122f2c34fbd0b0609891707/json5-0.8.5-py2.py3-none-any.whl\n",
      "Requirement already satisfied: jsonschema>=3.0.1 in c:\\users\\lcqi\\.conda\\envs\\python\\lib\\site-packages (from jupyterlab-server~=1.0.0->jupyterlab) (3.0.2)\n",
      "Requirement already satisfied: MarkupSafe>=0.23 in c:\\users\\lcqi\\.conda\\envs\\python\\lib\\site-packages (from jinja2>=2.10->jupyterlab) (1.1.1)\n",
      "Requirement already satisfied: nbconvert in c:\\users\\lcqi\\.conda\\envs\\python\\lib\\site-packages (from notebook>=4.3.1->jupyterlab) (5.6.0)\n",
      "Requirement already satisfied: traitlets>=4.2.1 in c:\\users\\lcqi\\.conda\\envs\\python\\lib\\site-packages (from notebook>=4.3.1->jupyterlab) (4.3.2)\n",
      "Requirement already satisfied: terminado>=0.8.1 in c:\\users\\lcqi\\.conda\\envs\\python\\lib\\site-packages (from notebook>=4.3.1->jupyterlab) (0.8.2)\n",
      "Requirement already satisfied: jupyter-client>=5.3.1 in c:\\users\\lcqi\\.conda\\envs\\python\\lib\\site-packages (from notebook>=4.3.1->jupyterlab) (5.3.1)\n",
      "Requirement already satisfied: ipykernel in c:\\users\\lcqi\\.conda\\envs\\python\\lib\\site-packages (from notebook>=4.3.1->jupyterlab) (5.1.2)\n",
      "Requirement already satisfied: pyzmq>=17 in c:\\users\\lcqi\\.conda\\envs\\python\\lib\\site-packages (from notebook>=4.3.1->jupyterlab) (18.0.2)\n",
      "Requirement already satisfied: nbformat in c:\\users\\lcqi\\.conda\\envs\\python\\lib\\site-packages (from notebook>=4.3.1->jupyterlab) (4.4.0)\n",
      "Requirement already satisfied: jupyter-core>=4.4.0 in c:\\users\\lcqi\\.conda\\envs\\python\\lib\\site-packages (from notebook>=4.3.1->jupyterlab) (4.4.0)\n",
      "Requirement already satisfied: ipython-genutils in c:\\users\\lcqi\\.conda\\envs\\python\\lib\\site-packages (from notebook>=4.3.1->jupyterlab) (0.2.0)\n",
      "Requirement already satisfied: Send2Trash in c:\\users\\lcqi\\.conda\\envs\\python\\lib\\site-packages (from notebook>=4.3.1->jupyterlab) (1.5.0)\n",
      "Requirement already satisfied: prometheus-client in c:\\users\\lcqi\\.conda\\envs\\python\\lib\\site-packages (from notebook>=4.3.1->jupyterlab) (0.7.1)\n",
      "Requirement already satisfied: setuptools in c:\\users\\lcqi\\appdata\\roaming\\python\\python37\\site-packages (from jsonschema>=3.0.1->jupyterlab-server~=1.0.0->jupyterlab) (40.8.0)\n",
      "Requirement already satisfied: pyrsistent>=0.14.0 in c:\\users\\lcqi\\.conda\\envs\\python\\lib\\site-packages (from jsonschema>=3.0.1->jupyterlab-server~=1.0.0->jupyterlab) (0.15.4)\n",
      "Requirement already satisfied: attrs>=17.4.0 in c:\\users\\lcqi\\.conda\\envs\\python\\lib\\site-packages (from jsonschema>=3.0.1->jupyterlab-server~=1.0.0->jupyterlab) (19.1.0)\n",
      "Requirement already satisfied: six>=1.11.0 in c:\\users\\lcqi\\.conda\\envs\\python\\lib\\site-packages (from jsonschema>=3.0.1->jupyterlab-server~=1.0.0->jupyterlab) (1.12.0)\n",
      "Requirement already satisfied: defusedxml in c:\\users\\lcqi\\.conda\\envs\\python\\lib\\site-packages (from nbconvert->notebook>=4.3.1->jupyterlab) (0.5.0)\n",
      "Requirement already satisfied: bleach in c:\\users\\lcqi\\.conda\\envs\\python\\lib\\site-packages (from nbconvert->notebook>=4.3.1->jupyterlab) (3.1.0)\n",
      "Requirement already satisfied: pandocfilters>=1.4.1 in c:\\users\\lcqi\\.conda\\envs\\python\\lib\\site-packages (from nbconvert->notebook>=4.3.1->jupyterlab) (1.4.2)\n",
      "Requirement already satisfied: testpath in c:\\users\\lcqi\\.conda\\envs\\python\\lib\\site-packages (from nbconvert->notebook>=4.3.1->jupyterlab) (0.4.2)\n",
      "Requirement already satisfied: entrypoints>=0.2.2 in c:\\users\\lcqi\\.conda\\envs\\python\\lib\\site-packages (from nbconvert->notebook>=4.3.1->jupyterlab) (0.3)\n",
      "Requirement already satisfied: pygments in c:\\users\\lcqi\\.conda\\envs\\python\\lib\\site-packages (from nbconvert->notebook>=4.3.1->jupyterlab) (2.4.2)\n",
      "Requirement already satisfied: mistune<2,>=0.8.1 in c:\\users\\lcqi\\.conda\\envs\\python\\lib\\site-packages (from nbconvert->notebook>=4.3.1->jupyterlab) (0.8.4)\n",
      "Requirement already satisfied: decorator in c:\\users\\lcqi\\.conda\\envs\\python\\lib\\site-packages (from traitlets>=4.2.1->notebook>=4.3.1->jupyterlab) (4.4.0)\n",
      "Requirement already satisfied: python-dateutil>=2.1 in c:\\users\\lcqi\\.conda\\envs\\python\\lib\\site-packages (from jupyter-client>=5.3.1->notebook>=4.3.1->jupyterlab) (2.8.0)\n",
      "Requirement already satisfied: ipython>=5.0.0 in c:\\users\\lcqi\\.conda\\envs\\python\\lib\\site-packages (from ipykernel->notebook>=4.3.1->jupyterlab) (7.7.0)\n",
      "Requirement already satisfied: webencodings in c:\\users\\lcqi\\.conda\\envs\\python\\lib\\site-packages (from bleach->nbconvert->notebook>=4.3.1->jupyterlab) (0.5.1)\n",
      "Requirement already satisfied: backcall in c:\\users\\lcqi\\.conda\\envs\\python\\lib\\site-packages (from ipython>=5.0.0->ipykernel->notebook>=4.3.1->jupyterlab) (0.1.0)\n",
      "Requirement already satisfied: pickleshare in c:\\users\\lcqi\\.conda\\envs\\python\\lib\\site-packages (from ipython>=5.0.0->ipykernel->notebook>=4.3.1->jupyterlab) (0.7.5)\n",
      "Requirement already satisfied: colorama; sys_platform == \"win32\" in c:\\users\\lcqi\\.conda\\envs\\python\\lib\\site-packages (from ipython>=5.0.0->ipykernel->notebook>=4.3.1->jupyterlab) (0.4.1)\n",
      "Requirement already satisfied: jedi>=0.10 in c:\\users\\lcqi\\.conda\\envs\\python\\lib\\site-packages (from ipython>=5.0.0->ipykernel->notebook>=4.3.1->jupyterlab) (0.15.1)\n",
      "Requirement already satisfied: prompt-toolkit<2.1.0,>=2.0.0 in c:\\users\\lcqi\\.conda\\envs\\python\\lib\\site-packages (from ipython>=5.0.0->ipykernel->notebook>=4.3.1->jupyterlab) (2.0.9)\n",
      "Requirement already satisfied: parso>=0.5.0 in c:\\users\\lcqi\\.conda\\envs\\python\\lib\\site-packages (from jedi>=0.10->ipython>=5.0.0->ipykernel->notebook>=4.3.1->jupyterlab) (0.5.1)\n",
      "Requirement already satisfied: wcwidth in c:\\users\\lcqi\\.conda\\envs\\python\\lib\\site-packages (from prompt-toolkit<2.1.0,>=2.0.0->ipython>=5.0.0->ipykernel->notebook>=4.3.1->jupyterlab) (0.1.7)\n",
      "Installing collected packages: json5, jupyterlab-server, jupyterlab\n",
      "Successfully installed json5-0.8.5 jupyterlab-1.2.0 jupyterlab-server-1.0.6\n"
     ]
    },
    {
     "name": "stderr",
     "output_type": "stream",
     "text": [
      "You are using pip version 19.0.3, however version 19.3.1 is available.\n",
      "You should consider upgrading via the 'python -m pip install --upgrade pip' command.\n"
     ]
    }
   ],
   "source": [
    "!python -m pip install jupyterlab"
   ]
  },
  {
   "cell_type": "markdown",
   "metadata": {},
   "source": [
    "# list of list"
   ]
  },
  {
   "cell_type": "code",
   "execution_count": 3,
   "metadata": {},
   "outputs": [
    {
     "name": "stdout",
     "output_type": "stream",
     "text": [
      "[[0, 1, 2], [0, 1, 2, 3, 4, 5], [1, 2, 3], [1, 2, 3, 100], [9, 2]]\n",
      "0 [1, 2]\n",
      "9 [2]\n",
      "1 [2, 3, 100]\n",
      "1 [2, 3]\n",
      "0 [1, 2, 3, 4, 5]\n"
     ]
    }
   ],
   "source": [
    "# sorted\n",
    "a = [[0, 1, 2], [9, 2], [1, 2, 3, 100], [1, 2, 3], [0, 1, 2, 3, 4, 5]]\n",
    "b = sorted(a)\n",
    "print(b)\n",
    "\n",
    "# iteration through the structure\n",
    "# for x,y in a: blahblah if lens are same\n",
    "for x, *y in a:\n",
    "    print(x, y)"
   ]
  },
  {
   "cell_type": "markdown",
   "metadata": {},
   "source": [
    "# index out of range"
   ]
  },
  {
   "cell_type": "code",
   "execution_count": 45,
   "metadata": {},
   "outputs": [
    {
     "name": "stdout",
     "output_type": "stream",
     "text": [
      "list index out of range\n",
      "[]\n",
      "b is empty\n",
      "Can also be None\n"
     ]
    }
   ],
   "source": [
    "# sometimes we need code still return something even the index out of range\n",
    "a = [1, 2, 3]\n",
    "# it returns error\n",
    "try:\n",
    "    b = a[5]\n",
    "    print(b)\n",
    "except Exception as e:\n",
    "    print(e)\n",
    "\n",
    "# it returns empty\n",
    "b = a[5:]\n",
    "print(b)\n",
    "if not b:\n",
    "    print('b is empty')\n",
    "if not None:\n",
    "    print('Can also be None')"
   ]
  },
  {
   "cell_type": "markdown",
   "metadata": {},
   "source": [
    "# 283. Move Zeroes \n",
    "https://leetcode.com/problems/move-zeroes/"
   ]
  },
  {
   "cell_type": "code",
   "execution_count": 2,
   "metadata": {},
   "outputs": [],
   "source": [
    "class Solution(object):\n",
    "    def moveZeroes(self, nums):\n",
    "        \"\"\"\n",
    "        :type nums: List[int]\n",
    "        :rtype: None Do not return anything, modify nums in-place instead.\n",
    "        \"\"\"\n",
    "        count = nums.count(0)\n",
    "        nums[:] = [i for i in nums if i != 0]\n",
    "        nums += [0] * count"
   ]
  },
  {
   "cell_type": "markdown",
   "metadata": {},
   "source": [
    "# key in max/min/sort"
   ]
  },
  {
   "cell_type": "code",
   "execution_count": 44,
   "metadata": {},
   "outputs": [
    {
     "name": "stdout",
     "output_type": "stream",
     "text": [
      "1\n",
      "0\n",
      "['aacd', 'aacf', 'aac', 'a']\n"
     ]
    }
   ],
   "source": [
    "lst = [40, 10, 20, 30]\n",
    "\n",
    "\n",
    "def minIndex(lst):\n",
    "    return min(range(len(lst)), key=lst.__getitem__)\n",
    "\n",
    "\n",
    "def maxIndex(lst):\n",
    "    return max(range(len(lst)), key=lambda x: lst[x])\n",
    "\n",
    "\n",
    "print(min(range(len(lst)), key=lambda x: lst[x]))\n",
    "print(maxIndex(lst))\n",
    "\n",
    "res = ['a', 'aac', 'aacd', 'aacf']\n",
    "s = sorted(res, key=lambda x: len(x), reverse=True)\n",
    "print(s)"
   ]
  }
 ],
 "metadata": {
  "kernelspec": {
   "display_name": "Python 3",
   "language": "python",
   "name": "python3"
  },
  "language_info": {
   "codemirror_mode": {
    "name": "ipython",
    "version": 3
   },
   "file_extension": ".py",
   "mimetype": "text/x-python",
   "name": "python",
   "nbconvert_exporter": "python",
   "pygments_lexer": "ipython3",
   "version": "3.7.3"
  },
  "toc": {
   "base_numbering": 1,
   "nav_menu": {},
   "number_sections": false,
   "sideBar": true,
   "skip_h1_title": false,
   "title_cell": "Table of Contents",
   "title_sidebar": "Contents",
   "toc_cell": false,
   "toc_position": {},
   "toc_section_display": true,
   "toc_window_display": true
  },
  "varInspector": {
   "cols": {
    "lenName": 16,
    "lenType": 16,
    "lenVar": 40
   },
   "kernels_config": {
    "python": {
     "delete_cmd_postfix": "",
     "delete_cmd_prefix": "del ",
     "library": "var_list.py",
     "varRefreshCmd": "print(var_dic_list())"
    },
    "r": {
     "delete_cmd_postfix": ") ",
     "delete_cmd_prefix": "rm(",
     "library": "var_list.r",
     "varRefreshCmd": "cat(var_dic_list()) "
    }
   },
   "types_to_exclude": [
    "module",
    "function",
    "builtin_function_or_method",
    "instance",
    "_Feature"
   ],
   "window_display": false
  }
 },
 "nbformat": 4,
 "nbformat_minor": 2
}
