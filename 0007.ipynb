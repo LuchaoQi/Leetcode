{
 "cells": [
  {
   "cell_type": "code",
   "execution_count": 93,
   "metadata": {},
   "outputs": [
    {
     "name": "stdout",
     "output_type": "stream",
     "text": [
      "0\n"
     ]
    }
   ],
   "source": [
    "class Solution:\n",
    "    '''\n",
    "    another idea (12%10)\n",
    "    '''\n",
    "    def reverse(self, x: int) -> int:\n",
    "        if x >=0 and int(str(x)[::-1]) <= 2**31-1:\n",
    "            return int(str(x)[::-1])\n",
    "        elif x<0 and int('-'+str(x)[:0:-1]) >= -2**31:   \n",
    "            return int('-'+str(x)[:0:-1])\n",
    "        else:\n",
    "            return 0\n",
    "if __name__ == '__main__':\n",
    "    s = Solution()\n",
    "    print(s.reverse(1534236469))"
   ]
  },
  {
   "cell_type": "code",
   "execution_count": 147,
   "metadata": {},
   "outputs": [
    {
     "name": "stdout",
     "output_type": "stream",
     "text": [
      "-123456\n",
      "654321-\n",
      "-654321\n",
      "-123456\n",
      "True\n",
      "8\n",
      "[1, 2, 3, 4, 5]\n",
      "[asd5asd,asd asd4asd,asd asd3asd,asd asd2asd,asd asd1asd]\n",
      "<class 'str'>\n"
     ]
    }
   ],
   "source": [
    "x = -123456\n",
    "print(x)\n",
    "y = str(x)\n",
    "# y.reverse()\n",
    "print(y[::-1])\n",
    "print('-'+str(x)[:0:-1])\n",
    "z = int(''.join(str(i) for i in y))\n",
    "print(z)\n",
    "print(2**31-1 > 1534236469)\n",
    "print(-12 % 10)\n",
    "\n",
    "l = [1,2,3,4,5]\n",
    "print(l)\n",
    "l.reverse()\n",
    "z = int(''.join(str(i) for i in l))\n",
    "z = ''.join(str(i) for i in l)\n",
    "\n",
    "# z = [i for i in l]\n",
    "z = 'asd'.join(str(l))\n",
    "print(z)\n",
    "print(type(z))"
   ]
  }
 ],
 "metadata": {
  "kernelspec": {
   "display_name": "Python 3",
   "language": "python",
   "name": "python3"
  },
  "language_info": {
   "codemirror_mode": {
    "name": "ipython",
    "version": 3
   },
   "file_extension": ".py",
   "mimetype": "text/x-python",
   "name": "python",
   "nbconvert_exporter": "python",
   "pygments_lexer": "ipython3",
   "version": "3.7.3"
  },
  "varInspector": {
   "cols": {
    "lenName": 16,
    "lenType": 16,
    "lenVar": 40
   },
   "kernels_config": {
    "python": {
     "delete_cmd_postfix": "",
     "delete_cmd_prefix": "del ",
     "library": "var_list.py",
     "varRefreshCmd": "print(var_dic_list())"
    },
    "r": {
     "delete_cmd_postfix": ") ",
     "delete_cmd_prefix": "rm(",
     "library": "var_list.r",
     "varRefreshCmd": "cat(var_dic_list()) "
    }
   },
   "types_to_exclude": [
    "module",
    "function",
    "builtin_function_or_method",
    "instance",
    "_Feature"
   ],
   "window_display": false
  }
 },
 "nbformat": 4,
 "nbformat_minor": 2
}
