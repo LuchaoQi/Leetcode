{
 "cells": [
  {
   "cell_type": "code",
   "execution_count": 22,
   "metadata": {},
   "outputs": [
    {
     "name": "stdout",
     "output_type": "stream",
     "text": [
      "[10, 1, 2, 3, 4, 5, 6, 7]\n"
     ]
    }
   ],
   "source": [
    "list1 = [ 1, 2, 3, 4, 5, 6, 7 ]  \n",
    "  \n",
    "# insert 10 at 4th index  \n",
    "list1.insert(0, 10)  \n",
    "print(list1) "
   ]
  },
  {
   "cell_type": "markdown",
   "metadata": {},
   "source": [
    "# 107. Binary Tree Level Order Traversal II\n",
    "https://leetcode.com/problems/binary-tree-level-order-traversal-ii/"
   ]
  },
  {
   "cell_type": "code",
   "execution_count": 23,
   "metadata": {},
   "outputs": [],
   "source": [
    "# a nice way to traverse through binary tree\n",
    "class Solution(object):\n",
    "    def levelOrderBottom(self, root):\n",
    "        res = []\n",
    "        nodes = [root] if root else []\n",
    "        while nodes:\n",
    "            res.append([node.val for node in nodes])\n",
    "            nodes = [x for node in nodes for x in (node.left,node.right) if x]\n",
    "        res.reverse()\n",
    "        return res"
   ]
  },
  {
   "cell_type": "markdown",
   "metadata": {},
   "source": [
    "# 690. Employee Importance\n",
    "https://leetcode.com/problems/employee-importance/"
   ]
  },
  {
   "cell_type": "code",
   "execution_count": 12,
   "metadata": {},
   "outputs": [],
   "source": [
    "\"\"\"\n",
    "# Employee info\n",
    "class Employee:\n",
    "    def __init__(self, id, importance, subordinates):\n",
    "        # It's the unique id of each node.\n",
    "        # unique id of this employee\n",
    "        self.id = id\n",
    "        # the importance value of this employee\n",
    "        self.importance = importance\n",
    "        # the id of direct subordinates\n",
    "        self.subordinates = subordinates\n",
    "\"\"\"\n",
    "# DFS\n",
    "class Solution:\n",
    "    def getImportance(self, employees, id):\n",
    "        \"\"\"\n",
    "        :type employees: Employee\n",
    "        :type id: int\n",
    "        :rtype: int\n",
    "        \"\"\"\n",
    "        id_to_emp = {employee.id: employee for employee in employees}\n",
    "        importance = 0\n",
    "        stack = [id_to_emp[id]]\n",
    "        while stack:\n",
    "            cur_emp = stack.pop()\n",
    "            importance += cur_emp.importance\n",
    "            stack.extend([id_to_emp[new_emp] for new_emp in cur_emp.subordinates])\n",
    "            # Note here we use extend\n",
    "#             https://www.afternerd.com/blog/append-vs-extend/\n",
    "        return importance \n",
    "\n",
    "# DFS\n",
    "class Solution(object):\n",
    "    def getImportance(self, employees, id):\n",
    "        \"\"\"\n",
    "        :type employees: Employee\n",
    "        :type id: int\n",
    "        :rtype: int\n",
    "        \"\"\"\n",
    "        # Time: O(n)\n",
    "        # Space: O(n)\n",
    "        emps = {employee.id: employee for employee in employees}\n",
    "        def dfs(id):\n",
    "            subordinates_importance = sum([dfs(sub_id) for sub_id in emps[id].subordinates])\n",
    "            return subordinates_importance + emps[id].importance\n",
    "        return dfs(id)"
   ]
  },
  {
   "cell_type": "markdown",
   "metadata": {},
   "source": [
    "# 559. Maximum Depth of N-ary Tree\n",
    "https://leetcode.com/problems/maximum-depth-of-n-ary-tree/"
   ]
  },
  {
   "cell_type": "code",
   "execution_count": 11,
   "metadata": {},
   "outputs": [],
   "source": [
    "\"\"\"\n",
    "# Definition for a Node.\n",
    "class Node:\n",
    "    def __init__(self, val, children):\n",
    "        self.val = val\n",
    "        self.children = children\n",
    "\"\"\"\n",
    "# Node is iterable\n",
    "# Solution\n",
    "# BFS: path is [[0],[1,2],[3,4,5,6]], calculate the number of sublists\n",
    "# DFS: path is [[0,1,3],[0,1,4],[0,2,5],[0,2,6]], calculate the max(len(sublists))\n",
    "\n",
    "# https://leetcode.com/problems/maximum-depth-of-n-ary-tree/discuss/151804/Solution-Python-C%2B%2B-Simple-with-explanation\n",
    "\n",
    "class Solution(object):\n",
    "    def maxDepth(self, root):\n",
    "        if not root: return 0 # This is the case when input is None\n",
    "        if not root.children: return 1 # This is the edge case in recursion\n",
    "        return max(self.maxDepth(node) for node in root.children) + 1\n",
    "\n",
    "class Solution(object):\n",
    "    def maxDepth(self, root):\n",
    "        if not root: return 0\n",
    "        return max(map(self.maxDepth, root.children or [None])) + 1\n",
    "    \n",
    "\n",
    "# https://leetcode.com/problems/maximum-depth-of-n-ary-tree/discuss/330666/3-Python-Solutions-(Recursion-BFS-DFS)\n",
    "# BFS\n",
    "class Solution(object):\n",
    "    def maxDepth(self, root):\n",
    "        queue = []\n",
    "        if root: queue.append((root, 1))\n",
    "        depth = 0\n",
    "        for (node, level) in queue:\n",
    "            depth = level\n",
    "            queue += [(child, level+1) for child in node.children]\n",
    "        return depth\n",
    "    \n",
    "class Solution:\n",
    "    def maxDepth(self, root: 'Node') -> int:\n",
    "        if not root:\n",
    "            return 0\n",
    "        stack = [root]\n",
    "        res = 0\n",
    "        while stack:\n",
    "            temp = []\n",
    "            res += 1\n",
    "            # Loops use list to update stack so it always equals to root.children\n",
    "            for i in stack:\n",
    "                for j in i.children:\n",
    "                    temp.append(j)\n",
    "            stack = temp[:]\n",
    "        return res\n",
    "    \n",
    "# DFS \n",
    "class Solution(object):\n",
    "    def maxDepth(self, root):\n",
    "        stack = []\n",
    "        if root: stack.append((root, 1))\n",
    "        depth = 0\n",
    "        while stack:\n",
    "            (node, d) = stack.pop()\n",
    "            depth = max(depth, d)\n",
    "            for child in node.children:\n",
    "                stack.append((child, d+1))\n",
    "        return depth\n",
    "    \n",
    "class Solution:\n",
    "    def maxDepth(self, root: 'Node') -> int: \n",
    "        return self.dfs(root,0)\n",
    "\n",
    "    def dfs(self,root,res):\n",
    "        if not root:\n",
    "            return res\n",
    "        if not root.children:\n",
    "            res+=1\n",
    "            return res\n",
    "        res+=1 # plus 1 at end\n",
    "        # recursively traverse through the children\n",
    "        res=max(self.dfs(i,res) for i in root.children)\n",
    "        return res\n",
    "    \n"
   ]
  }
 ],
 "metadata": {
  "kernelspec": {
   "display_name": "Python 3",
   "language": "python",
   "name": "python3"
  },
  "language_info": {
   "codemirror_mode": {
    "name": "ipython",
    "version": 3
   },
   "file_extension": ".py",
   "mimetype": "text/x-python",
   "name": "python",
   "nbconvert_exporter": "python",
   "pygments_lexer": "ipython3",
   "version": "3.7.4"
  }
 },
 "nbformat": 4,
 "nbformat_minor": 4
}
