{
 "cells": [
  {
   "cell_type": "markdown",
   "metadata": {},
   "source": [
    "# 559. Maximum Depth of N-ary Tree\n",
    "https://leetcode.com/problems/maximum-depth-of-n-ary-tree/"
   ]
  },
  {
   "cell_type": "code",
   "execution_count": 5,
   "metadata": {},
   "outputs": [],
   "source": [
    "\"\"\"\n",
    "# Definition for a Node.\n",
    "class Node:\n",
    "    def __init__(self, val, children):\n",
    "        self.val = val\n",
    "        self.children = children\n",
    "\"\"\"\n",
    "# Node is iterable\n",
    "\n",
    "# BFS\n",
    "# Note BFS is slower than DFS\n",
    "class Solution:\n",
    "    def maxDepth(self, root: 'Node') -> int:\n",
    "        if not root:\n",
    "            return 0\n",
    "        stack = [root]\n",
    "        res = 0\n",
    "        while stack:\n",
    "            temp = []\n",
    "            res += 1\n",
    "            # Loops use list to update stack so it always equals to root.children\n",
    "            for i in stack:\n",
    "                for j in i.children:\n",
    "                    temp.append(j)\n",
    "            stack = temp[:]\n",
    "        return res\n",
    "\n",
    "# DFS solution\n",
    "# traverse through all the children and return maximum depth\n",
    "class Solution:\n",
    "    def maxDepth(self, root: 'Node') -> int: \n",
    "        return self.dfs(root,0)\n",
    "\n",
    "    def dfs(self,root,res):\n",
    "        if not root:\n",
    "            return res\n",
    "        if not root.children:\n",
    "            res+=1\n",
    "            return res\n",
    "        res+=1 # plus 1 at end\n",
    "        # recursively traverse through the children\n",
    "        res=max(self.dfs(i,res) for i in root.children) # this is cool\n",
    "        return res\n"
   ]
  }
 ],
 "metadata": {
  "kernelspec": {
   "display_name": "Python 3",
   "language": "python",
   "name": "python3"
  },
  "language_info": {
   "codemirror_mode": {
    "name": "ipython",
    "version": 3
   },
   "file_extension": ".py",
   "mimetype": "text/x-python",
   "name": "python",
   "nbconvert_exporter": "python",
   "pygments_lexer": "ipython3",
   "version": "3.7.4"
  }
 },
 "nbformat": 4,
 "nbformat_minor": 4
}
