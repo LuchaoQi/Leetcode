{
 "cells": [
  {
   "cell_type": "markdown",
   "metadata": {},
   "source": [
    "# 559. Maximum Depth of N-ary Tree\n",
    "https://leetcode.com/problems/maximum-depth-of-n-ary-tree/"
   ]
  },
  {
   "cell_type": "code",
   "execution_count": 2,
   "metadata": {},
   "outputs": [],
   "source": [
    "# dfs solution\n",
    "# traverse through all the children and return maximum depth\n",
    "class Solution:\n",
    "    def maxDepth(self, root: 'Node') -> int: \n",
    "        return self.dfs(root,0)\n",
    "\n",
    "    def dfs(self,root,res):\n",
    "        if not root:\n",
    "            return res\n",
    "        if not root.children:\n",
    "            res+=1\n",
    "            return res\n",
    "        res+=1 # plus 1 at end\n",
    "        ##########\n",
    "        res=max(self.dfs(i,res) for i in root.children)\n",
    "        ##########\n",
    "        return res"
   ]
  }
 ],
 "metadata": {
  "kernelspec": {
   "display_name": "Python 3",
   "language": "python",
   "name": "python3"
  },
  "language_info": {
   "codemirror_mode": {
    "name": "ipython",
    "version": 3
   },
   "file_extension": ".py",
   "mimetype": "text/x-python",
   "name": "python",
   "nbconvert_exporter": "python",
   "pygments_lexer": "ipython3",
   "version": "3.7.4"
  }
 },
 "nbformat": 4,
 "nbformat_minor": 4
}
