{
 "cells": [
  {
   "cell_type": "code",
   "execution_count": null,
   "metadata": {},
   "outputs": [],
   "source": [
    "# Definition for singly-linked list.\n",
    "# class ListNode:\n",
    "#     def __init__(self, x):\n",
    "#         self.val = x\n",
    "#         self.next = None\n",
    "\n",
    "def mergeTwoLists1(self, l1, l2):\n",
    "    dummy = cur = ListNode(0)\n",
    "    while l1 and l2:\n",
    "        if l1.val < l2.val:\n",
    "            cur.next = l1\n",
    "            l1 = l1.next\n",
    "        else:\n",
    "            cur.next = l2\n",
    "            l2 = l2.next\n",
    "        cur = cur.next\n",
    "    cur.next = l1 or l2\n",
    "    return dummy.next"
   ]
  },
  {
   "cell_type": "code",
   "execution_count": 12,
   "metadata": {},
   "outputs": [],
   "source": [
    "# Definition for singly-linked list.\n",
    "# class ListNode:\n",
    "#     def __init__(self, x):\n",
    "#         self.val = x\n",
    "#         self.next = None\n",
    "\n",
    "class Solution(object):\n",
    "    def mergeTwoLists(self, l1, l2):\n",
    "        \"\"\"\n",
    "        :type l1: ListNode; l2: ListNode;; rtype: ListNode\n",
    "        \"\"\"\n",
    "        sentinel = ListNode(0)\n",
    "        p, p1, p2 = sentinel, l1, l2\n",
    "        while p1 and p2:\n",
    "            if p1.val < p2.val:\n",
    "                p.next,p1 = p1, p1.next\n",
    "            else:\n",
    "                p.next,p2 = p2, p2.next\n",
    "            p = p.next\n",
    "\n",
    "        while p1:\n",
    "            p.next, p1 = p1, p1.next\n",
    "            p = p.next\n",
    "\n",
    "        while p2:\n",
    "            p.next, p2 = p2, p2.next\n",
    "            p = p.next\n",
    "\n",
    "        return sentinel.next"
   ]
  },
  {
   "cell_type": "code",
   "execution_count": 28,
   "metadata": {},
   "outputs": [
    {
     "name": "stdout",
     "output_type": "stream",
     "text": [
      "[(0, 0)]\n",
      "0\n",
      "3.141592653589793\n"
     ]
    }
   ],
   "source": [
    "class Robot:\n",
    "    def __init__(self,x=0,y=0,angle=0):\n",
    "        self.x, self.y, self.angle = x,y,angle\n",
    "        self.path = [(x,y)]\n",
    "\n",
    "\n",
    "        \n",
    "if __name__ == \"__main__\":\n",
    "    s = Robot()\n",
    "    print(s.path)\n",
    "    print(s.x)\n",
    "    \n",
    "# from math import pi\n",
    "import math\n",
    "print(pi)"
   ]
  }
 ],
 "metadata": {
  "kernelspec": {
   "display_name": "Python 3",
   "language": "python",
   "name": "python3"
  },
  "language_info": {
   "codemirror_mode": {
    "name": "ipython",
    "version": 3
   },
   "file_extension": ".py",
   "mimetype": "text/x-python",
   "name": "python",
   "nbconvert_exporter": "python",
   "pygments_lexer": "ipython3",
   "version": "3.7.3"
  },
  "varInspector": {
   "cols": {
    "lenName": 16,
    "lenType": 16,
    "lenVar": 40
   },
   "kernels_config": {
    "python": {
     "delete_cmd_postfix": "",
     "delete_cmd_prefix": "del ",
     "library": "var_list.py",
     "varRefreshCmd": "print(var_dic_list())"
    },
    "r": {
     "delete_cmd_postfix": ") ",
     "delete_cmd_prefix": "rm(",
     "library": "var_list.r",
     "varRefreshCmd": "cat(var_dic_list()) "
    }
   },
   "types_to_exclude": [
    "module",
    "function",
    "builtin_function_or_method",
    "instance",
    "_Feature"
   ],
   "window_display": false
  }
 },
 "nbformat": 4,
 "nbformat_minor": 2
}
