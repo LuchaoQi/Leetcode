{
 "cells": [
  {
   "cell_type": "code",
   "execution_count": 1,
   "metadata": {},
   "outputs": [
    {
     "name": "stdout",
     "output_type": "stream",
     "text": [
      "None\n"
     ]
    }
   ],
   "source": [
    "# class Solution:\n",
    "#     def twoSum(self, nums:list, target:int) -> list:\n",
    "#         for i in nums:\n",
    "#             x1 = nums.index(i)\n",
    "#             for x2 in range(x1+1,len(nums)):\n",
    "#                 if target-i == nums[x2]:\n",
    "#                     return([x1,x2])\n",
    "#                     break\n",
    "class Solution:\n",
    "    def twoSum(self, nums:list, target:int) -> list:\n",
    "        hist = {}\n",
    "        for i, n in enumerate(nums):\n",
    "            if target - n in hist:\n",
    "                return [hist[target-n], i]\n",
    "            hist[n] = i       \n",
    "\n",
    "                    \n",
    "if __name__ == '__main__':\n",
    "    s = Solution()\n",
    "    print(s.twoSum([9,2,3,4,7],8))"
   ]
  },
  {
   "cell_type": "code",
   "execution_count": null,
   "metadata": {},
   "outputs": [],
   "source": [
    "a = {1:'one',2:'two',3:'three'}\n",
    "if 1 in a:\n",
    "    print('y')"
   ]
  }
 ],
 "metadata": {
  "kernelspec": {
   "display_name": "Python 3",
   "language": "python",
   "name": "python3"
  },
  "language_info": {
   "codemirror_mode": {
    "name": "ipython",
    "version": 3
   },
   "file_extension": ".py",
   "mimetype": "text/x-python",
   "name": "python",
   "nbconvert_exporter": "python",
   "pygments_lexer": "ipython3",
   "version": "3.7.3"
  },
  "varInspector": {
   "cols": {
    "lenName": 16,
    "lenType": 16,
    "lenVar": 40
   },
   "kernels_config": {
    "python": {
     "delete_cmd_postfix": "",
     "delete_cmd_prefix": "del ",
     "library": "var_list.py",
     "varRefreshCmd": "print(var_dic_list())"
    },
    "r": {
     "delete_cmd_postfix": ") ",
     "delete_cmd_prefix": "rm(",
     "library": "var_list.r",
     "varRefreshCmd": "cat(var_dic_list()) "
    }
   },
   "position": {
    "height": "265.667px",
    "left": "846px",
    "right": "20px",
    "top": "120px",
    "width": "350px"
   },
   "types_to_exclude": [
    "module",
    "function",
    "builtin_function_or_method",
    "instance",
    "_Feature"
   ],
   "window_display": true
  }
 },
 "nbformat": 4,
 "nbformat_minor": 2
}
