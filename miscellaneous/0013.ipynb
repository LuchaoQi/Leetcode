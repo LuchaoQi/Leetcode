{
 "cells": [
  {
   "cell_type": "code",
   "execution_count": 101,
   "metadata": {},
   "outputs": [],
   "source": [
    "class Solution(object):\n",
    "    d = {'M':1000, 'D':500, 'C':100, 'L':50, 'X':10, 'V':5, 'I':1}\n",
    "    def romanToInt(self, s):\n",
    "        pre, ans = None, 0\n",
    "        dic = {\"I\":1, \"V\":5, \"X\":10, \"L\":50, \"C\":100, \"D\":500, \"M\":1000, None: 10000}\n",
    "        for c in s:\n",
    "            ans += dic[c] if dic[pre] >= dic[c] else dic[c] - dic[pre] * 2\n",
    "            pre = c\n",
    "        return ans"
   ]
  },
  {
   "cell_type": "code",
   "execution_count": 100,
   "metadata": {},
   "outputs": [
    {
     "name": "stdout",
     "output_type": "stream",
     "text": [
      "1994\n",
      "3\n"
     ]
    }
   ],
   "source": [
    "'''\n",
    "Symbol       Value\n",
    "I             1\n",
    "V             5\n",
    "X             10\n",
    "L             50\n",
    "C             100\n",
    "D             500\n",
    "M             1000\n",
    "'''\n",
    "'''\n",
    "I can be placed before V (5) and X (10) to make 4 and 9. \n",
    "X can be placed before L (50) and C (100) to make 40 and 90. \n",
    "C can be placed before D (500) and M (1000) to make 400 and 900.\n",
    "'''\n",
    "\n",
    "class Solution:\n",
    "    def romanToInt(self, s: str) -> int:\n",
    "        dic = {'I':1,'V':5,'X':10,'L':50,'C':100,'D':500,'M':1000}\n",
    "        exp = ['CM','XC','IV']\n",
    "        pos = 0\n",
    "        v = 0\n",
    "        for i in s:\n",
    "            v += dic[i]\n",
    "        v -= s.count('CM')*200 + s.count('XC')*20 + s.count('IV')*2 + s.count('CD')*200 + s.count('XL')*20 + s.count('IX')*2\n",
    "        return(v)\n",
    "     \n",
    "        \n",
    "if __name__ == \"__main__\":\n",
    "    s = Solution()\n",
    "    print(s.romanToInt(\"MCMXCIV\"))\n",
    "    print(s.romanToInt(\"III\"))\n",
    "        "
   ]
  },
  {
   "cell_type": "code",
   "execution_count": 85,
   "metadata": {},
   "outputs": [
    {
     "name": "stdout",
     "output_type": "stream",
     "text": [
      "16.000\n",
      "[1, 2]\n",
      "12\n",
      "54321\n",
      "[13, 123123]\n",
      "[123123, 13]\n",
      "1234\r\n",
      "[1, 2, 3, 4]\n",
      "{'I': 1, 'V': 5, 'X': 10, 'L': 50, 'C': 100, 'D': 500, 'M': 1000}\n",
      "7\n",
      "6\n",
      "5\n",
      "4\n",
      "3\n",
      "2\n",
      "1\n",
      "y\n",
      "2\n"
     ]
    }
   ],
   "source": [
    "String1 = \"{:.3f}\".format(16)\n",
    "print(String1)\n",
    "print([1]+[2])\n",
    "print('1'+'2')\n",
    "print('12345'[::-1])\n",
    "a = [123123,13]\n",
    "a.reverse()\n",
    "print(a)\n",
    "print(a[::-1])\n",
    "for i in range(1,5):\n",
    "    print(i,end = '')\n",
    "print('\\r')\n",
    "print([i for i in range(1,5)])\n",
    "dic = {'I':1,'V':5,'X':10,'L':50,'C':100,'D':500,'M':1000}\n",
    "print(dic)\n",
    "a = \"MCMXCIV\"\n",
    "pos = len(a)\n",
    "while pos > 0:\n",
    "    print(pos)\n",
    "    pos -=1\n",
    "if 'asd' in ['asd','aq','d']:\n",
    "    print('y')\n",
    "print(a.count('M'))"
   ]
  }
 ],
 "metadata": {
  "kernelspec": {
   "display_name": "Python 3",
   "language": "python",
   "name": "python3"
  },
  "language_info": {
   "codemirror_mode": {
    "name": "ipython",
    "version": 3
   },
   "file_extension": ".py",
   "mimetype": "text/x-python",
   "name": "python",
   "nbconvert_exporter": "python",
   "pygments_lexer": "ipython3",
   "version": "3.7.3"
  },
  "varInspector": {
   "cols": {
    "lenName": 16,
    "lenType": 16,
    "lenVar": 40
   },
   "kernels_config": {
    "python": {
     "delete_cmd_postfix": "",
     "delete_cmd_prefix": "del ",
     "library": "var_list.py",
     "varRefreshCmd": "print(var_dic_list())"
    },
    "r": {
     "delete_cmd_postfix": ") ",
     "delete_cmd_prefix": "rm(",
     "library": "var_list.r",
     "varRefreshCmd": "cat(var_dic_list()) "
    }
   },
   "types_to_exclude": [
    "module",
    "function",
    "builtin_function_or_method",
    "instance",
    "_Feature"
   ],
   "window_display": false
  }
 },
 "nbformat": 4,
 "nbformat_minor": 2
}
