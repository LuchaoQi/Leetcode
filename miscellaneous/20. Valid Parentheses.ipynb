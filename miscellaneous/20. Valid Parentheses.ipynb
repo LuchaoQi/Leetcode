{
 "cells": [
  {
   "cell_type": "code",
   "execution_count": 36,
   "metadata": {},
   "outputs": [],
   "source": [
    "class Solution(object):\n",
    "    def isValid(self, s):\n",
    "        while \"()\" in s or \"{}\" in s or '[]' in s:\n",
    "            s = s.replace(\"()\", \"\").replace('{}', \"\").replace('[]', \"\")\n",
    "        return s == ''"
   ]
  },
  {
   "cell_type": "code",
   "execution_count": 6,
   "metadata": {},
   "outputs": [
    {
     "data": {
      "text/plain": [
       "True"
      ]
     },
     "execution_count": 6,
     "metadata": {},
     "output_type": "execute_result"
    }
   ],
   "source": [
    "class Solution:\n",
    "    # @return a boolean\n",
    "    def isValid(self, s):\n",
    "        stack = []\n",
    "        dict = {\"]\":\"[\", \"}\":\"{\", \")\":\"(\"}\n",
    "        for char in s:\n",
    "            if char in dict.values():\n",
    "                stack.append(char)\n",
    "            elif char in dict.keys():\n",
    "                if stack == [] or dict[char] != stack.pop():\n",
    "                    return False\n",
    "#             else:\n",
    "#                 return False\n",
    "        return stack == []\n",
    "\n",
    "a = Solution()\n",
    "a.isValid(\"{}\")"
   ]
  },
  {
   "cell_type": "code",
   "execution_count": 46,
   "metadata": {},
   "outputs": [
    {
     "name": "stdout",
     "output_type": "stream",
     "text": [
      "-1\n",
      "['(', ')', '[', '{', ']']\n",
      "(0, '(')\n",
      "(1, ')')\n",
      "(2, '[')\n",
      "(3, '{')\n",
      "(4, ']')\n",
      "( : 0\n",
      ") : 1\n",
      "{ : 2\n",
      "} : 3\n",
      "[ : 4\n",
      "] : 5\n",
      "y\n"
     ]
    }
   ],
   "source": [
    "s = \"()[{]}\"\n",
    "# s = [i for i in s]\n",
    "print(s.find(\"5\"))\n",
    "s = list(s)\n",
    "s.pop()\n",
    "print(s)\n",
    "\n",
    "\n",
    "\n",
    "for i in enumerate(s):\n",
    "    print(i)\n",
    "\n",
    "dic = {'(':0,')':1,'{':2,'}':3,'[':4,']':5}\n",
    "for i in dic:\n",
    "    print(i,\":\",dic[i])\n",
    "if '{' in s:\n",
    "    print('y')"
   ]
  }
 ],
 "metadata": {
  "kernelspec": {
   "display_name": "Python 3",
   "language": "python",
   "name": "python3"
  },
  "language_info": {
   "codemirror_mode": {
    "name": "ipython",
    "version": 3
   },
   "file_extension": ".py",
   "mimetype": "text/x-python",
   "name": "python",
   "nbconvert_exporter": "python",
   "pygments_lexer": "ipython3",
   "version": "3.7.3"
  },
  "varInspector": {
   "cols": {
    "lenName": 16,
    "lenType": 16,
    "lenVar": 40
   },
   "kernels_config": {
    "python": {
     "delete_cmd_postfix": "",
     "delete_cmd_prefix": "del ",
     "library": "var_list.py",
     "varRefreshCmd": "print(var_dic_list())"
    },
    "r": {
     "delete_cmd_postfix": ") ",
     "delete_cmd_prefix": "rm(",
     "library": "var_list.r",
     "varRefreshCmd": "cat(var_dic_list()) "
    }
   },
   "types_to_exclude": [
    "module",
    "function",
    "builtin_function_or_method",
    "instance",
    "_Feature"
   ],
   "window_display": false
  }
 },
 "nbformat": 4,
 "nbformat_minor": 2
}
