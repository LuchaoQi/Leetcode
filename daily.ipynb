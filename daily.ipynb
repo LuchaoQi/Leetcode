{
 "cells": [
  {
   "cell_type": "code",
   "execution_count": null,
   "metadata": {},
   "outputs": [],
   "source": [
    "559\n",
    "# BFS\n",
    "class Solution:\n",
    "    def maxDepth(self, root: 'Node') -> int:\n",
    "        if not root:\n",
    "            return 0\n",
    "        queue = [(root,1)]\n",
    "        while queue:\n",
    "            node, depth = queue.pop(0)\n",
    "            for i in node.children:\n",
    "                queue.append((i,depth+1))\n",
    "        return depth\n",
    "    \n",
    "#DFS\n",
    "class Solution:\n",
    "    def maxDepth(self, root: 'Node') -> int:\n",
    "        if not root:\n",
    "            return 0\n",
    "        res = []\n",
    "        stack = [(root,1)]\n",
    "        while stack:\n",
    "            node, depth = stack.pop()\n",
    "            for i in node.children:\n",
    "                stack.append((i,depth+1))\n",
    "            if not node.children:\n",
    "                res.append(depth)\n",
    "        print(res)\n",
    "        return max(res)"
   ]
  },
  {
   "cell_type": "code",
   "execution_count": null,
   "metadata": {},
   "outputs": [],
   "source": [
    "240\n",
    "\n",
    "class Solution:\n",
    "    def searchMatrix(self, matrix, target):\n",
    "        \"\"\"\n",
    "        :type matrix: List[List[int]]\n",
    "        :type target: int\n",
    "        :rtype: bool\n",
    "        \"\"\"\n",
    "        # return any(target in row for row in matrix)\n",
    "        if not any(matrix):\n",
    "            return False\n",
    "        m, n = len(matrix), len(matrix[0]) # m: row, n: col\n",
    "        for row in range(m):\n",
    "            # if matrix[row][n-1] < target:\n",
    "            if matrix[row][-1] and matrix[row][-1] < target:\n",
    "                continue\n",
    "            if matrix[row][-1]:\n",
    "                for col in range(n-1,-1,-1):\n",
    "                    if target == matrix[row][col]:\n",
    "                        return True\n",
    "        return False"
   ]
  },
  {
   "cell_type": "code",
   "execution_count": null,
   "metadata": {},
   "outputs": [],
   "source": [
    "112\n",
    "\n",
    "class Solution:\n",
    "    def hasPathSum(self, root: TreeNode, sum: int) -> bool:\n",
    "        if not root:\n",
    "            return False\n",
    "        stack = [(root,sum)]\n",
    "        while stack:\n",
    "            node,target = stack.pop()\n",
    "            if target == node.val and node.left == node.right == None:\n",
    "                return True\n",
    "            if node.left: stack.append((node.left,target-node.val))\n",
    "            if node.right: stack.append((node.right,target-node.val))\n",
    "        return False"
   ]
  },
  {
   "cell_type": "code",
   "execution_count": null,
   "metadata": {},
   "outputs": [],
   "source": [
    "257\n",
    "\n",
    "class Solution:\n",
    "    def binaryTreePaths(self, root: TreeNode) -> List[str]:\n",
    "        if not root:\n",
    "            return []\n",
    "        res = []\n",
    "        stack = [(root,str(root.val))]\n",
    "        while stack:\n",
    "            node, cur = stack.pop()\n",
    "            if node.right: stack.append((node.right, cur + '->' + str(node.right.val)))\n",
    "            if node.left: stack.append((node.left, cur + '->' + str(node.left.val)))\n",
    "            if node.left == node.right == None:\n",
    "                res.append(cur)\n",
    "        return res"
   ]
  },
  {
   "cell_type": "code",
   "execution_count": null,
   "metadata": {},
   "outputs": [],
   "source": [
    "\n",
    "class Solution(object):\n",
    "    def generateMatrix(self,n):\n",
    "        \"\"\"\n",
    "        :type n: int\n",
    "        :rtype: List[List[int]]\n",
    "        \"\"\"\n",
    "        curNum = 0\n",
    "        matrix = [[0]*n]*n\n",
    "        maxUp = maxLeft = 0 \n",
    "        maxDown = maxRight = n - 1\n",
    "        direction = 0                \n",
    "        while True:\n",
    "            if direction == 0: #go right\n",
    "                for i in range(maxLeft, maxRight+1):\n",
    "                    curNum += 1\n",
    "                    matrix[maxUp][i] = curNum\n",
    "                maxUp += 1\n",
    "            elif direction == 1: # go down\n",
    "                for i in range(maxUp, maxDown+1):\n",
    "                    curNum += 1\n",
    "                    matrix[i][maxRight] = curNum\n",
    "                maxRight -= 1\n",
    "            elif direction == 2: # go left\n",
    "                for i in reversed(range(maxLeft, maxRight+1)):\n",
    "                    curNum += 1 \n",
    "                    matrix[maxDown][i] = curNum\n",
    "                maxDown -= 1\n",
    "            else: #go up\n",
    "                for i in reversed(range(maxUp, maxDown+1)):\n",
    "                    curNum += 1\n",
    "                    matrix[i][maxLeft] = curNum\n",
    "                maxLeft +=1\n",
    "            if curNum >= n*n:\n",
    "                return matrix\n",
    "            direction = (direction + 1 ) % 4\n",
    "\n",
    "        "
   ]
  }
 ],
 "metadata": {
  "kernelspec": {
   "display_name": "Python 3.8.3 32-bit",
   "language": "python",
   "name": "python38332bit3d219b40c03149de815f30e90199cdd9"
  },
  "language_info": {
   "codemirror_mode": {
    "name": "ipython",
    "version": 3
   },
   "file_extension": ".py",
   "mimetype": "text/x-python",
   "name": "python",
   "nbconvert_exporter": "python",
   "pygments_lexer": "ipython3",
   "version": "3.8.3-final"
  },
  "toc": {
   "base_numbering": 1,
   "nav_menu": {},
   "number_sections": true,
   "sideBar": true,
   "skip_h1_title": false,
   "title_cell": "Table of Contents",
   "title_sidebar": "Contents",
   "toc_cell": false,
   "toc_position": {},
   "toc_section_display": true,
   "toc_window_display": true
  },
  "varInspector": {
   "cols": {
    "lenName": 16,
    "lenType": 16,
    "lenVar": 40
   },
   "kernels_config": {
    "python": {
     "delete_cmd_postfix": "",
     "delete_cmd_prefix": "del ",
     "library": "var_list.py",
     "varRefreshCmd": "print(var_dic_list())"
    },
    "r": {
     "delete_cmd_postfix": ") ",
     "delete_cmd_prefix": "rm(",
     "library": "var_list.r",
     "varRefreshCmd": "cat(var_dic_list()) "
    }
   },
   "types_to_exclude": [
    "module",
    "function",
    "builtin_function_or_method",
    "instance",
    "_Feature"
   ],
   "window_display": false
  }
 },
 "nbformat": 4,
 "nbformat_minor": 2
}