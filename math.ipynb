{
 "cells": [
  {
   "cell_type": "markdown",
   "metadata": {},
   "source": [
    "# best-time-to-buy-and-sell-stock"
   ]
  },
  {
   "cell_type": "code",
   "execution_count": 7,
   "metadata": {},
   "outputs": [],
   "source": [
    "# https://leetcode.com/problems/best-time-to-buy-and-sell-stock/\n",
    "# https://www.youtube.com/watch?v=8pVhUpF1INw\n",
    "class Solution(object):\n",
    "    def maxProfit(self, prices):\n",
    "        \"\"\"\n",
    "        :type prices: List[int]\n",
    "        :rtype: int\n",
    "        \"\"\"\n",
    "        \n",
    "        gain = [prices[i] - prices[i-1] for i in xrange(1,len(prices))]\n",
    "        for i in xrange(1,len(gain)):\n",
    "            gain[i] = max(gain[i]+gain[i-1],gain[i])\n",
    "        if gain:\n",
    "            return max(0,max(gain))\n",
    "        else:\n",
    "            return 0"
   ]
  },
  {
   "cell_type": "markdown",
   "metadata": {},
   "source": [
    "# maximum subarray"
   ]
  },
  {
   "cell_type": "code",
   "execution_count": 6,
   "metadata": {},
   "outputs": [],
   "source": [
    "#https://leetcode.com/problems/maximum-subarray/\n",
    "class Solution(object):\n",
    "    def maxSubArray(self, nums):\n",
    "        \"\"\"\n",
    "        :type nums: List[int]\n",
    "        :rtype: int\n",
    "        \"\"\"\n",
    "        for i in xrange(1,len(nums)):\n",
    "            nums[i] = max(nums[i - 1] + nums[i], nums[i])\n",
    "        return max(nums)"
   ]
  },
  {
   "cell_type": "markdown",
   "metadata": {},
   "source": [
    "# climb stairs"
   ]
  },
  {
   "cell_type": "code",
   "execution_count": 5,
   "metadata": {},
   "outputs": [
    {
     "name": "stdout",
     "output_type": "stream",
     "text": [
      "[11, 11, 3, 4]\n"
     ]
    }
   ],
   "source": [
    "# https://leetcode.com/problems/climbing-stairs/\n",
    "# https://leetcode.com/problems/climbing-stairs/discuss/163347/Python-3000DP-or-tm\n",
    "\n",
    "# Bottom up, constant space\n",
    "def climbStairs3(self, n):\n",
    "    if n == 1:\n",
    "        return 1\n",
    "    a, b = 1, 2\n",
    "    for i in xrange(2, n):\n",
    "        a,b = b,a+b\n",
    "#         tmp = b\n",
    "#         b = a+b\n",
    "#         a = tmp\n",
    "    return b\n",
    "# ez\n",
    "class Solution:\n",
    "    def climbStairs(self, n: int) -> int:\n",
    "        hist = {1:1,2:2}\n",
    "        if n <= 2:\n",
    "            return hist.get(n,0)\n",
    "        for i in range(3,n+1):\n",
    "            hist[i] = hist[i-1] + hist[i-2]\n",
    "        return hist[n]\n",
    "\n",
    "class Solution:\n",
    "    def climbStairs(self, n: int) -> int:\n",
    "        if n == 1: return 1\n",
    "        if n == 2: return 2\n",
    "        res = [0 for i in range(n)]\n",
    "        res[:2] = (1,2)\n",
    "        for i in range(2,n):\n",
    "            res[i] = res[i-1] + res[i-2]\n",
    "        print(res)\n",
    "        return res[-1]"
   ]
  },
  {
   "cell_type": "markdown",
   "metadata": {},
   "source": [
    "# combination sum"
   ]
  },
  {
   "cell_type": "code",
   "execution_count": null,
   "metadata": {},
   "outputs": [],
   "source": [
    "# https://leetcode.com/problems/combination-sum/\n",
    "\n",
    "class Solution:\n",
    "    def combinationSum(self, candidates, target):\n",
    "        res = []\n",
    "        candidates.sort()\n",
    "        self.dfs(candidates,target,0,[],res)\n",
    "        return res\n",
    "    \n",
    "    def dfs(self,candidates,target,index,path,res):\n",
    "        if target < 0:\n",
    "            return\n",
    "        if target == 0:\n",
    "            res.append(path)\n",
    "            return\n",
    "        for i in range(index,len(candidates)):\n",
    "            if candidates[i] > target:\n",
    "                break\n",
    "            self.dfs(candidates,target-candidates[i],i,path+[candidates[i]],res)"
   ]
  }
 ],
 "metadata": {
  "kernelspec": {
   "display_name": "Python 3",
   "language": "python",
   "name": "python3"
  },
  "language_info": {
   "codemirror_mode": {
    "name": "ipython",
    "version": 3
   },
   "file_extension": ".py",
   "mimetype": "text/x-python",
   "name": "python",
   "nbconvert_exporter": "python",
   "pygments_lexer": "ipython3",
   "version": "3.7.2"
  },
  "toc": {
   "base_numbering": 1,
   "nav_menu": {},
   "number_sections": false,
   "sideBar": true,
   "skip_h1_title": false,
   "title_cell": "Table of Contents",
   "title_sidebar": "Contents",
   "toc_cell": false,
   "toc_position": {},
   "toc_section_display": true,
   "toc_window_display": true
  },
  "varInspector": {
   "cols": {
    "lenName": 16,
    "lenType": 16,
    "lenVar": 40
   },
   "kernels_config": {
    "python": {
     "delete_cmd_postfix": "",
     "delete_cmd_prefix": "del ",
     "library": "var_list.py",
     "varRefreshCmd": "print(var_dic_list())"
    },
    "r": {
     "delete_cmd_postfix": ") ",
     "delete_cmd_prefix": "rm(",
     "library": "var_list.r",
     "varRefreshCmd": "cat(var_dic_list()) "
    }
   },
   "types_to_exclude": [
    "module",
    "function",
    "builtin_function_or_method",
    "instance",
    "_Feature"
   ],
   "window_display": false
  }
 },
 "nbformat": 4,
 "nbformat_minor": 2
}
